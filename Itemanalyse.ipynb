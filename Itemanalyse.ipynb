{
 "cells": [
  {
   "cell_type": "markdown",
   "id": "c2c8f087",
   "metadata": {},
   "source": [
    "## <span style=\"color:rgb(145, 40, 33); font-weight:bold\">Itemanalyse der pilotsudy.csv</span>\n",
    "#### <span style=\"color:rgb(145, 40, 33); font-weight:bold\">Sükrü Kakici</span>"
   ]
  },
  {
   "cell_type": "markdown",
   "id": "d24059d7",
   "metadata": {},
   "source": [
    "---\n",
    "__Aufgabe 1:__\n",
    "\n",
    "Lesen Sie die Daten _pilotStudy.csv_ ein und geben Sie einen Überblick über die Daten (Variablennamen, Skalenniveau, Lagemaße). "
   ]
  },
  {
   "cell_type": "code",
   "execution_count": 1,
   "id": "a3cf1808",
   "metadata": {
    "vscode": {
     "languageId": "r"
    }
   },
   "outputs": [
    {
     "data": {
      "text/plain": [
       "       X              PE01           PE02           PE03           PE04    \n",
       " Min.   : 1.00   Min.   :4.00   Min.   :3.00   Min.   :3.00   Min.   :1.0  \n",
       " 1st Qu.:13.25   1st Qu.:5.00   1st Qu.:5.00   1st Qu.:6.00   1st Qu.:2.0  \n",
       " Median :25.50   Median :6.00   Median :6.00   Median :7.00   Median :2.0  \n",
       " Mean   :25.50   Mean   :6.06   Mean   :5.62   Mean   :6.24   Mean   :2.3  \n",
       " 3rd Qu.:37.75   3rd Qu.:7.00   3rd Qu.:7.00   3rd Qu.:7.00   3rd Qu.:3.0  \n",
       " Max.   :50.00   Max.   :7.00   Max.   :7.00   Max.   :7.00   Max.   :3.0  \n",
       "      EE01           EE02           EE03           EE04          SI01     \n",
       " Min.   :4.00   Min.   :3.00   Min.   :3.00   Min.   :4.0   Min.   :1.00  \n",
       " 1st Qu.:6.00   1st Qu.:5.00   1st Qu.:5.25   1st Qu.:6.0   1st Qu.:4.00  \n",
       " Median :7.00   Median :6.00   Median :6.50   Median :7.0   Median :4.00  \n",
       " Mean   :6.28   Mean   :6.06   Mean   :6.16   Mean   :6.3   Mean   :4.38  \n",
       " 3rd Qu.:7.00   3rd Qu.:7.00   3rd Qu.:7.00   3rd Qu.:7.0   3rd Qu.:6.00  \n",
       " Max.   :7.00   Max.   :7.00   Max.   :7.00   Max.   :7.0   Max.   :7.00  \n",
       "      SI02           SI03           SI04           SI05          FC01    \n",
       " Min.   :1.00   Min.   :1.00   Min.   :5.00   Min.   :1.0   Min.   :4.0  \n",
       " 1st Qu.:4.00   1st Qu.:4.00   1st Qu.:5.00   1st Qu.:3.0   1st Qu.:6.0  \n",
       " Median :4.00   Median :5.00   Median :6.00   Median :5.0   Median :7.0  \n",
       " Mean   :4.24   Mean   :4.38   Mean   :6.02   Mean   :4.4   Mean   :6.5  \n",
       " 3rd Qu.:6.00   3rd Qu.:6.00   3rd Qu.:7.00   3rd Qu.:6.0   3rd Qu.:7.0  \n",
       " Max.   :7.00   Max.   :7.00   Max.   :7.00   Max.   :7.0   Max.   :7.0  \n",
       "      FC02           FC03           FC04           FC05         BIP01     \n",
       " Min.   :4.00   Min.   :4.00   Min.   :3.00   Min.   :1.0   Min.   :4.00  \n",
       " 1st Qu.:6.00   1st Qu.:6.00   1st Qu.:5.25   1st Qu.:2.0   1st Qu.:6.00  \n",
       " Median :7.00   Median :7.00   Median :6.00   Median :3.0   Median :7.00  \n",
       " Mean   :6.38   Mean   :6.34   Mean   :5.96   Mean   :2.5   Mean   :6.44  \n",
       " 3rd Qu.:7.00   3rd Qu.:7.00   3rd Qu.:7.00   3rd Qu.:3.0   3rd Qu.:7.00  \n",
       " Max.   :7.00   Max.   :7.00   Max.   :7.00   Max.   :4.0   Max.   :7.00  \n",
       "     BIP02          BIP03          BIP04          BIP05          BIP06     \n",
       " Min.   :3.00   Min.   :3.00   Min.   :4.00   Min.   :3.00   Min.   :4.00  \n",
       " 1st Qu.:5.25   1st Qu.:5.25   1st Qu.:6.00   1st Qu.:6.00   1st Qu.:6.00  \n",
       " Median :6.00   Median :6.00   Median :6.50   Median :6.00   Median :6.00  \n",
       " Mean   :6.02   Mean   :6.10   Mean   :6.26   Mean   :6.16   Mean   :6.24  \n",
       " 3rd Qu.:7.00   3rd Qu.:7.00   3rd Qu.:7.00   3rd Qu.:7.00   3rd Qu.:7.00  \n",
       " Max.   :7.00   Max.   :7.00   Max.   :7.00   Max.   :7.00   Max.   :7.00  \n",
       "     COMP01         COMP02         COMP03         MEAN01         MEAN02    \n",
       " Min.   :4.00   Min.   :4.00   Min.   :3.00   Min.   :2.00   Min.   :2.00  \n",
       " 1st Qu.:6.00   1st Qu.:6.00   1st Qu.:6.00   1st Qu.:5.00   1st Qu.:5.00  \n",
       " Median :7.00   Median :7.00   Median :7.00   Median :6.00   Median :6.00  \n",
       " Mean   :6.36   Mean   :6.32   Mean   :6.32   Mean   :5.64   Mean   :5.82  \n",
       " 3rd Qu.:7.00   3rd Qu.:7.00   3rd Qu.:7.00   3rd Qu.:6.00   3rd Qu.:6.75  \n",
       " Max.   :7.00   Max.   :7.00   Max.   :7.00   Max.   :7.00   Max.   :7.00  \n",
       "     MEAN03        IMP01         IMP02          IMP03          SDET01    \n",
       " Min.   :2.0   Min.   :2.0   Min.   :1.00   Min.   :1.00   Min.   :4.00  \n",
       " 1st Qu.:5.0   1st Qu.:4.0   1st Qu.:4.00   1st Qu.:4.00   1st Qu.:6.00  \n",
       " Median :6.0   Median :5.0   Median :5.00   Median :5.00   Median :7.00  \n",
       " Mean   :5.7   Mean   :5.1   Mean   :4.84   Mean   :4.44   Mean   :6.24  \n",
       " 3rd Qu.:7.0   3rd Qu.:6.0   3rd Qu.:6.00   3rd Qu.:6.00   3rd Qu.:7.00  \n",
       " Max.   :7.0   Max.   :7.0   Max.   :7.00   Max.   :7.00   Max.   :7.00  \n",
       "     SDET02         SDET03         REC01          REC02          REC03    \n",
       " Min.   :4.00   Min.   :4.00   Min.   :1.00   Min.   :1.00   Min.   :1.0  \n",
       " 1st Qu.:5.25   1st Qu.:5.00   1st Qu.:5.00   1st Qu.:5.00   1st Qu.:5.0  \n",
       " Median :6.50   Median :7.00   Median :6.00   Median :6.00   Median :6.0  \n",
       " Mean   :6.18   Mean   :6.16   Mean   :5.38   Mean   :5.88   Mean   :5.8  \n",
       " 3rd Qu.:7.00   3rd Qu.:7.00   3rd Qu.:6.75   3rd Qu.:7.00   3rd Qu.:7.0  \n",
       " Max.   :7.00   Max.   :7.00   Max.   :7.00   Max.   :7.00   Max.   :7.0  \n",
       "      GEN            AGE           AGExGEN          EDU      \n",
       " Min.   :0.00   Min.   :20.00   Min.   : 0.0   Min.   :12.0  \n",
       " 1st Qu.:0.00   1st Qu.:39.00   1st Qu.: 0.0   1st Qu.:12.0  \n",
       " Median :0.00   Median :44.50   Median : 0.0   Median :15.0  \n",
       " Mean   :0.48   Mean   :45.44   Mean   :21.6   Mean   :14.3  \n",
       " 3rd Qu.:1.00   3rd Qu.:53.00   3rd Qu.:42.0   3rd Qu.:15.0  \n",
       " Max.   :1.00   Max.   :66.00   Max.   :66.0   Max.   :17.0  "
      ]
     },
     "metadata": {},
     "output_type": "display_data"
    },
    {
     "data": {
      "text/html": [
       "<table>\n",
       "<thead><tr><th scope=col>X</th><th scope=col>PE01</th><th scope=col>PE02</th><th scope=col>PE03</th><th scope=col>PE04</th><th scope=col>EE01</th><th scope=col>EE02</th><th scope=col>EE03</th><th scope=col>EE04</th><th scope=col>SI01</th><th scope=col>...</th><th scope=col>SDET01</th><th scope=col>SDET02</th><th scope=col>SDET03</th><th scope=col>REC01</th><th scope=col>REC02</th><th scope=col>REC03</th><th scope=col>GEN</th><th scope=col>AGE</th><th scope=col>AGExGEN</th><th scope=col>EDU</th></tr></thead>\n",
       "<tbody>\n",
       "\t<tr><td>1  </td><td>7  </td><td>7  </td><td>7  </td><td>3  </td><td>7  </td><td>7  </td><td>7  </td><td>7  </td><td>5  </td><td>...</td><td>7  </td><td>7  </td><td>7  </td><td>1  </td><td>7  </td><td>7  </td><td>0  </td><td>46 </td><td> 0 </td><td>16 </td></tr>\n",
       "\t<tr><td>2  </td><td>7  </td><td>7  </td><td>7  </td><td>2  </td><td>7  </td><td>7  </td><td>7  </td><td>7  </td><td>1  </td><td>...</td><td>6  </td><td>6  </td><td>6  </td><td>6  </td><td>6  </td><td>6  </td><td>0  </td><td>58 </td><td> 0 </td><td>15 </td></tr>\n",
       "\t<tr><td>3  </td><td>4  </td><td>4  </td><td>5  </td><td>2  </td><td>5  </td><td>5  </td><td>6  </td><td>6  </td><td>2  </td><td>...</td><td>4  </td><td>4  </td><td>4  </td><td>6  </td><td>5  </td><td>6  </td><td>0  </td><td>46 </td><td> 0 </td><td>15 </td></tr>\n",
       "\t<tr><td>4  </td><td>5  </td><td>6  </td><td>6  </td><td>2  </td><td>6  </td><td>6  </td><td>6  </td><td>6  </td><td>6  </td><td>...</td><td>6  </td><td>6  </td><td>5  </td><td>4  </td><td>4  </td><td>4  </td><td>1  </td><td>58 </td><td>58 </td><td>12 </td></tr>\n",
       "\t<tr><td>5  </td><td>6  </td><td>5  </td><td>7  </td><td>1  </td><td>5  </td><td>7  </td><td>7  </td><td>7  </td><td>6  </td><td>...</td><td>6  </td><td>6  </td><td>6  </td><td>6  </td><td>6  </td><td>5  </td><td>1  </td><td>32 </td><td>32 </td><td>17 </td></tr>\n",
       "\t<tr><td>6  </td><td>7  </td><td>7  </td><td>7  </td><td>2  </td><td>7  </td><td>7  </td><td>7  </td><td>7  </td><td>4  </td><td>...</td><td>7  </td><td>7  </td><td>7  </td><td>1  </td><td>1  </td><td>1  </td><td>1  </td><td>62 </td><td>62 </td><td>17 </td></tr>\n",
       "</tbody>\n",
       "</table>\n"
      ],
      "text/latex": [
       "\\begin{tabular}{r|llllllllllllllllllllllllllllllllllllllllllll}\n",
       " X & PE01 & PE02 & PE03 & PE04 & EE01 & EE02 & EE03 & EE04 & SI01 & ... & SDET01 & SDET02 & SDET03 & REC01 & REC02 & REC03 & GEN & AGE & AGExGEN & EDU\\\\\n",
       "\\hline\n",
       "\t 1   & 7   & 7   & 7   & 3   & 7   & 7   & 7   & 7   & 5   & ... & 7   & 7   & 7   & 1   & 7   & 7   & 0   & 46  &  0  & 16 \\\\\n",
       "\t 2   & 7   & 7   & 7   & 2   & 7   & 7   & 7   & 7   & 1   & ... & 6   & 6   & 6   & 6   & 6   & 6   & 0   & 58  &  0  & 15 \\\\\n",
       "\t 3   & 4   & 4   & 5   & 2   & 5   & 5   & 6   & 6   & 2   & ... & 4   & 4   & 4   & 6   & 5   & 6   & 0   & 46  &  0  & 15 \\\\\n",
       "\t 4   & 5   & 6   & 6   & 2   & 6   & 6   & 6   & 6   & 6   & ... & 6   & 6   & 5   & 4   & 4   & 4   & 1   & 58  & 58  & 12 \\\\\n",
       "\t 5   & 6   & 5   & 7   & 1   & 5   & 7   & 7   & 7   & 6   & ... & 6   & 6   & 6   & 6   & 6   & 5   & 1   & 32  & 32  & 17 \\\\\n",
       "\t 6   & 7   & 7   & 7   & 2   & 7   & 7   & 7   & 7   & 4   & ... & 7   & 7   & 7   & 1   & 1   & 1   & 1   & 62  & 62  & 17 \\\\\n",
       "\\end{tabular}\n"
      ],
      "text/markdown": [
       "\n",
       "| X | PE01 | PE02 | PE03 | PE04 | EE01 | EE02 | EE03 | EE04 | SI01 | ... | SDET01 | SDET02 | SDET03 | REC01 | REC02 | REC03 | GEN | AGE | AGExGEN | EDU |\n",
       "|---|---|---|---|---|---|---|---|---|---|---|---|---|---|---|---|---|---|---|---|---|\n",
       "| 1   | 7   | 7   | 7   | 3   | 7   | 7   | 7   | 7   | 5   | ... | 7   | 7   | 7   | 1   | 7   | 7   | 0   | 46  |  0  | 16  |\n",
       "| 2   | 7   | 7   | 7   | 2   | 7   | 7   | 7   | 7   | 1   | ... | 6   | 6   | 6   | 6   | 6   | 6   | 0   | 58  |  0  | 15  |\n",
       "| 3   | 4   | 4   | 5   | 2   | 5   | 5   | 6   | 6   | 2   | ... | 4   | 4   | 4   | 6   | 5   | 6   | 0   | 46  |  0  | 15  |\n",
       "| 4   | 5   | 6   | 6   | 2   | 6   | 6   | 6   | 6   | 6   | ... | 6   | 6   | 5   | 4   | 4   | 4   | 1   | 58  | 58  | 12  |\n",
       "| 5   | 6   | 5   | 7   | 1   | 5   | 7   | 7   | 7   | 6   | ... | 6   | 6   | 6   | 6   | 6   | 5   | 1   | 32  | 32  | 17  |\n",
       "| 6   | 7   | 7   | 7   | 2   | 7   | 7   | 7   | 7   | 4   | ... | 7   | 7   | 7   | 1   | 1   | 1   | 1   | 62  | 62  | 17  |\n",
       "\n"
      ],
      "text/plain": [
       "  X PE01 PE02 PE03 PE04 EE01 EE02 EE03 EE04 SI01 ... SDET01 SDET02 SDET03 REC01\n",
       "1 1 7    7    7    3    7    7    7    7    5    ... 7      7      7      1    \n",
       "2 2 7    7    7    2    7    7    7    7    1    ... 6      6      6      6    \n",
       "3 3 4    4    5    2    5    5    6    6    2    ... 4      4      4      6    \n",
       "4 4 5    6    6    2    6    6    6    6    6    ... 6      6      5      4    \n",
       "5 5 6    5    7    1    5    7    7    7    6    ... 6      6      6      6    \n",
       "6 6 7    7    7    2    7    7    7    7    4    ... 7      7      7      1    \n",
       "  REC02 REC03 GEN AGE AGExGEN EDU\n",
       "1 7     7     0   46   0      16 \n",
       "2 6     6     0   58   0      15 \n",
       "3 5     6     0   46   0      15 \n",
       "4 4     4     1   58  58      12 \n",
       "5 6     5     1   32  32      17 \n",
       "6 1     1     1   62  62      17 "
      ]
     },
     "metadata": {},
     "output_type": "display_data"
    }
   ],
   "source": [
    "# Daten einlesen\n",
    "data = read.csv(\"pilotStudy.csv\")\n",
    "summary(data)\n",
    "head(data)"
   ]
  },
  {
   "cell_type": "markdown",
   "id": "a0c6556a",
   "metadata": {},
   "source": [
    "#### INFOS zu den Daten\n",
    "\n",
    "Das theoretische Modell umfasst die Konstrukte _performance expectancy_ (Leistungserwartung), _effort expectancy_ (Aufwandserwartung),  _social influence_ (sozialer Einfluss) und _facilitating conditions_ (günstige Bedingungen) auf Seiten des UTAUT. Zusätzlich ist das Modell mit den Konstrukten _competence_ (Kompetenz), _meaning_ (Bedeutung), _impact_ (Auswirkungen) und _selfdetermination_ (Selbstbestimmungsrecht) aus der Empowerment-Theorie angereichert. \n",
    "\n",
    "Im Fragebogen sind für jedes Konstrukt mehrere Items vorhanden, zusätzlich gibt es noch sozialdemographische Fragen: \n",
    "\n",
    "|Bezeichnung|Variablen|Bedeutung|\n",
    "|--|:--|--|\n",
    "|Erwartung der Leistung|PE01, PE02, PE03, PE04||\n",
    "|Erwartung der Anstrengung|EE01, EE02, EE03, EE04||\n",
    "|sozialer Einfluss|SI01, SI02, SI03, SI04, SI05||\n",
    "|günstige Bedingungen|FC01, FC02, FC03, FC04, FC05||\n",
    "|Intention E-Partizipation|BIP01,BIP02,BIP03,BIP04,BIP05,BIP06||\n",
    "|Kompetenz|COMP01, COMP02,COMP03||\n",
    "|Bedeutung|MEAN01, MEAN02, MEAN03||\n",
    "|Auswirkungen|IMP01, IMP02, IMP03||\n",
    "|Selbstbestimmungsrecht|SDET01, SDET02, SDET03||\n",
    "|Empfehlung|REC01, REC02, REC03||\n",
    "|Geschlecht|GEN||\n",
    "|Alter|AGE||\n",
    "|Niveau der Ausbildung|EDU||\n",
    "\n",
    "Erwartung der Leistung wurde bereits in der LV besprochen, wir befassen uns mit den restlichen Konstrukten."
   ]
  },
  {
   "cell_type": "code",
   "execution_count": 29,
   "id": "3df0cd59",
   "metadata": {
    "vscode": {
     "languageId": "r"
    }
   },
   "outputs": [
    {
     "data": {
      "text/plain": [
       "ErwartungSumme\n",
       "16 21 22 23 27 28 29 30 31 32 33 36 37 40 41 43 44 47 48 49 50 51 52 57 58 60 \n",
       " 1  1  2  2  1  1  2  1  2  2  2  2  1  3  1  1  1  4  1  2  1  1  1  2  2  3 \n",
       "61 62 64 65 69 70 \n",
       " 1  1  2  1  1  1 "
      ]
     },
     "metadata": {},
     "output_type": "display_data"
    },
    {
     "data": {
      "image/png": "[encoded data removed]",
      "text/plain": [
       "Plot with title \"Histogram of ErwartungSumme\""
      ]
     },
     "metadata": {},
     "output_type": "display_data"
    }
   ],
   "source": [
    "# Summenwerte für jede Zeile\n",
    "ErwartungSumme = rowSums(Erwartung)\n",
    "table(ErwartungSumme)\n",
    "hist(ErwartungSumme)"
   ]
  },
  {
   "cell_type": "code",
   "execution_count": 21,
   "id": "1cb43a15",
   "metadata": {
    "vscode": {
     "languageId": "r"
    }
   },
   "outputs": [],
   "source": [
    "library(psych)"
   ]
  },
  {
   "cell_type": "code",
   "execution_count": 25,
   "id": "d5bc962b",
   "metadata": {
    "vscode": {
     "languageId": "r"
    }
   },
   "outputs": [
    {
     "name": "stdout",
     "output_type": "stream",
     "text": [
      "\n",
      "  There is a binary version available but the source version is later:\n",
      "      binary source needs_compilation\n",
      "psych  2.1.3  2.2.9             FALSE\n",
      "\n"
     ]
    },
    {
     "name": "stderr",
     "output_type": "stream",
     "text": [
      "installing the source package 'psych'\n",
      "\n"
     ]
    }
   ],
   "source": [
    "install.packages(\"psych\")\n",
    "library(psych)"
   ]
  },
  {
   "cell_type": "code",
   "execution_count": 27,
   "id": "c38dc21d",
   "metadata": {
    "vscode": {
     "languageId": "r"
    }
   },
   "outputs": [
    {
     "name": "stderr",
     "output_type": "stream",
     "text": [
      "Warning message:\n",
      "\"package 'CTT' is in use and will not be installed\""
     ]
    }
   ],
   "source": [
    "install.packages(\"CTT\")\n",
    "library(CTT)"
   ]
  },
  {
   "cell_type": "markdown",
   "id": "c2869f48",
   "metadata": {},
   "source": [
    "### <span style=\"color:rgb(145, 40, 33); font-weight:bold\">Erstellung der restlichen Konstrukte</span>"
   ]
  },
  {
   "cell_type": "code",
   "execution_count": 2,
   "id": "c3862c10",
   "metadata": {
    "vscode": {
     "languageId": "r"
    }
   },
   "outputs": [
    {
     "data": {
      "text/html": [
       "<table>\n",
       "<thead><tr><th scope=col>PE01</th><th scope=col>PE02</th><th scope=col>PE03</th><th scope=col>PE04</th></tr></thead>\n",
       "<tbody>\n",
       "\t<tr><td>7</td><td>7</td><td>7</td><td>3</td></tr>\n",
       "\t<tr><td>7</td><td>7</td><td>7</td><td>2</td></tr>\n",
       "\t<tr><td>4</td><td>4</td><td>5</td><td>2</td></tr>\n",
       "\t<tr><td>5</td><td>6</td><td>6</td><td>2</td></tr>\n",
       "\t<tr><td>6</td><td>5</td><td>7</td><td>1</td></tr>\n",
       "\t<tr><td>7</td><td>7</td><td>7</td><td>2</td></tr>\n",
       "</tbody>\n",
       "</table>\n"
      ],
      "text/latex": [
       "\\begin{tabular}{r|llll}\n",
       " PE01 & PE02 & PE03 & PE04\\\\\n",
       "\\hline\n",
       "\t 7 & 7 & 7 & 3\\\\\n",
       "\t 7 & 7 & 7 & 2\\\\\n",
       "\t 4 & 4 & 5 & 2\\\\\n",
       "\t 5 & 6 & 6 & 2\\\\\n",
       "\t 6 & 5 & 7 & 1\\\\\n",
       "\t 7 & 7 & 7 & 2\\\\\n",
       "\\end{tabular}\n"
      ],
      "text/markdown": [
       "\n",
       "| PE01 | PE02 | PE03 | PE04 |\n",
       "|---|---|---|---|\n",
       "| 7 | 7 | 7 | 3 |\n",
       "| 7 | 7 | 7 | 2 |\n",
       "| 4 | 4 | 5 | 2 |\n",
       "| 5 | 6 | 6 | 2 |\n",
       "| 6 | 5 | 7 | 1 |\n",
       "| 7 | 7 | 7 | 2 |\n",
       "\n"
      ],
      "text/plain": [
       "  PE01 PE02 PE03 PE04\n",
       "1 7    7    7    3   \n",
       "2 7    7    7    2   \n",
       "3 4    4    5    2   \n",
       "4 5    6    6    2   \n",
       "5 6    5    7    1   \n",
       "6 7    7    7    2   "
      ]
     },
     "metadata": {},
     "output_type": "display_data"
    }
   ],
   "source": [
    "ErwartungLeistung = data[,2:5]\n",
    "head(ErwartungLeistung)\n",
    "\n",
    "\n",
    "#\"Erwartung der Anstrengung\"\n",
    "Anstrengung = data[6:9] #head(Anstrenung)\n",
    "\n",
    "#Konstrukt \"sozialer Einfluss\"\n",
    "sozialerEinfluss = data[10:14] #head(sozialerEinfluss)\n",
    "\n",
    "#Konstrukt \"günstige Bedingungen\"\n",
    "günstigeBeding = data[15:19] #günstigeBeding\n",
    "\n",
    "#Konstrukt \"Intention E-Partizipation\"\n",
    "eParticip = data[20:25] #eParticip\n",
    "\n",
    "#Konstrukt \"Kompetenz\"\n",
    "Kompetenz = data[26:28] #head(Kompetenz)\n",
    "\n",
    "#Konstrukt \"Bedeutung\"\n",
    "Bedeutung = data[29:31] #head(Bedeutung)\n",
    "\n",
    "#Konstrukt \"Auswirkungen\"\n",
    "Auswirkungen = data[32:34] #head(Auswirkungen)\n",
    "\n",
    "#Konstrukt \"Selbstbestimmungsrecht\"\n",
    "Selbstbestimmungsrecht = data[35:37] #head(Selbstbestimmungsrecht)\n",
    "\n",
    "#Konstrukt \"Empfehlung\"\n",
    "Empfehlung = data[38:40] #head(Empfehlung)"
   ]
  },
  {
   "cell_type": "markdown",
   "id": "a349133d",
   "metadata": {},
   "source": [
    "### <span style=\"color:rgb(145, 40, 33); font-weight:bold\">Erwartung der Anstrengung</span>"
   ]
  },
  {
   "cell_type": "code",
   "execution_count": 42,
   "id": "35c1af90",
   "metadata": {
    "vscode": {
     "languageId": "r"
    }
   },
   "outputs": [
    {
     "data": {
      "text/html": [
       "<table>\n",
       "<thead><tr><th scope=col>EE01</th><th scope=col>EE02</th><th scope=col>EE03</th><th scope=col>EE04</th></tr></thead>\n",
       "<tbody>\n",
       "\t<tr><td>7</td><td>7</td><td>7</td><td>7</td></tr>\n",
       "\t<tr><td>7</td><td>7</td><td>7</td><td>7</td></tr>\n",
       "\t<tr><td>5</td><td>5</td><td>6</td><td>6</td></tr>\n",
       "\t<tr><td>6</td><td>6</td><td>6</td><td>6</td></tr>\n",
       "\t<tr><td>5</td><td>7</td><td>7</td><td>7</td></tr>\n",
       "\t<tr><td>7</td><td>7</td><td>7</td><td>7</td></tr>\n",
       "</tbody>\n",
       "</table>\n"
      ],
      "text/latex": [
       "\\begin{tabular}{r|llll}\n",
       " EE01 & EE02 & EE03 & EE04\\\\\n",
       "\\hline\n",
       "\t 7 & 7 & 7 & 7\\\\\n",
       "\t 7 & 7 & 7 & 7\\\\\n",
       "\t 5 & 5 & 6 & 6\\\\\n",
       "\t 6 & 6 & 6 & 6\\\\\n",
       "\t 5 & 7 & 7 & 7\\\\\n",
       "\t 7 & 7 & 7 & 7\\\\\n",
       "\\end{tabular}\n"
      ],
      "text/markdown": [
       "\n",
       "| EE01 | EE02 | EE03 | EE04 |\n",
       "|---|---|---|---|\n",
       "| 7 | 7 | 7 | 7 |\n",
       "| 7 | 7 | 7 | 7 |\n",
       "| 5 | 5 | 6 | 6 |\n",
       "| 6 | 6 | 6 | 6 |\n",
       "| 5 | 7 | 7 | 7 |\n",
       "| 7 | 7 | 7 | 7 |\n",
       "\n"
      ],
      "text/plain": [
       "  EE01 EE02 EE03 EE04\n",
       "1 7    7    7    7   \n",
       "2 7    7    7    7   \n",
       "3 5    5    6    6   \n",
       "4 6    6    6    6   \n",
       "5 5    7    7    7   \n",
       "6 7    7    7    7   "
      ]
     },
     "metadata": {},
     "output_type": "display_data"
    },
    {
     "data": {
      "text/html": [
       "<table>\n",
       "<thead><tr><th scope=col>itemName</th><th scope=col>itemMean</th><th scope=col>pBis</th><th scope=col>bis</th><th scope=col>alphaIfDeleted</th></tr></thead>\n",
       "<tbody>\n",
       "\t<tr><td>EE01     </td><td>6.28     </td><td>0.7562217</td><td>0.8646420</td><td>0.8989794</td></tr>\n",
       "\t<tr><td>EE02     </td><td>6.06     </td><td>0.8565808</td><td>0.9524334</td><td>0.8626927</td></tr>\n",
       "\t<tr><td>EE03     </td><td>6.16     </td><td>0.8423282</td><td>0.9523182</td><td>0.8672958</td></tr>\n",
       "\t<tr><td>EE04     </td><td>6.30     </td><td>0.7469429</td><td>0.8635641</td><td>0.9007616</td></tr>\n",
       "</tbody>\n",
       "</table>\n"
      ],
      "text/latex": [
       "\\begin{tabular}{r|lllll}\n",
       " itemName & itemMean & pBis & bis & alphaIfDeleted\\\\\n",
       "\\hline\n",
       "\t EE01      & 6.28      & 0.7562217 & 0.8646420 & 0.8989794\\\\\n",
       "\t EE02      & 6.06      & 0.8565808 & 0.9524334 & 0.8626927\\\\\n",
       "\t EE03      & 6.16      & 0.8423282 & 0.9523182 & 0.8672958\\\\\n",
       "\t EE04      & 6.30      & 0.7469429 & 0.8635641 & 0.9007616\\\\\n",
       "\\end{tabular}\n"
      ],
      "text/markdown": [
       "\n",
       "| itemName | itemMean | pBis | bis | alphaIfDeleted |\n",
       "|---|---|---|---|---|\n",
       "| EE01      | 6.28      | 0.7562217 | 0.8646420 | 0.8989794 |\n",
       "| EE02      | 6.06      | 0.8565808 | 0.9524334 | 0.8626927 |\n",
       "| EE03      | 6.16      | 0.8423282 | 0.9523182 | 0.8672958 |\n",
       "| EE04      | 6.30      | 0.7469429 | 0.8635641 | 0.9007616 |\n",
       "\n"
      ],
      "text/plain": [
       "  itemName itemMean pBis      bis       alphaIfDeleted\n",
       "1 EE01     6.28     0.7562217 0.8646420 0.8989794     \n",
       "2 EE02     6.06     0.8565808 0.9524334 0.8626927     \n",
       "3 EE03     6.16     0.8423282 0.9523182 0.8672958     \n",
       "4 EE04     6.30     0.7469429 0.8635641 0.9007616     "
      ]
     },
     "metadata": {},
     "output_type": "display_data"
    },
    {
     "data": {
      "text/html": [
       "<table>\n",
       "<thead><tr><th></th><th scope=col>EE01</th><th scope=col>EE02</th><th scope=col>EE03</th><th scope=col>EE04</th></tr></thead>\n",
       "<tbody>\n",
       "\t<tr><th scope=row>EE01</th><td>1.00</td><td>0.68</td><td>0.65</td><td>0.75</td></tr>\n",
       "\t<tr><th scope=row>EE02</th><td>0.68</td><td>1.00</td><td>0.92</td><td>0.66</td></tr>\n",
       "\t<tr><th scope=row>EE03</th><td>0.65</td><td>0.92</td><td>1.00</td><td>0.65</td></tr>\n",
       "\t<tr><th scope=row>EE04</th><td>0.75</td><td>0.66</td><td>0.65</td><td>1.00</td></tr>\n",
       "</tbody>\n",
       "</table>\n"
      ],
      "text/latex": [
       "\\begin{tabular}{r|llll}\n",
       "  & EE01 & EE02 & EE03 & EE04\\\\\n",
       "\\hline\n",
       "\tEE01 & 1.00 & 0.68 & 0.65 & 0.75\\\\\n",
       "\tEE02 & 0.68 & 1.00 & 0.92 & 0.66\\\\\n",
       "\tEE03 & 0.65 & 0.92 & 1.00 & 0.65\\\\\n",
       "\tEE04 & 0.75 & 0.66 & 0.65 & 1.00\\\\\n",
       "\\end{tabular}\n"
      ],
      "text/markdown": [
       "\n",
       "| <!--/--> | EE01 | EE02 | EE03 | EE04 |\n",
       "|---|---|---|---|---|\n",
       "| EE01 | 1.00 | 0.68 | 0.65 | 0.75 |\n",
       "| EE02 | 0.68 | 1.00 | 0.92 | 0.66 |\n",
       "| EE03 | 0.65 | 0.92 | 1.00 | 0.65 |\n",
       "| EE04 | 0.75 | 0.66 | 0.65 | 1.00 |\n",
       "\n"
      ],
      "text/plain": [
       "     EE01 EE02 EE03 EE04\n",
       "EE01 1.00 0.68 0.65 0.75\n",
       "EE02 0.68 1.00 0.92 0.66\n",
       "EE03 0.65 0.92 1.00 0.65\n",
       "EE04 0.75 0.66 0.65 1.00"
      ]
     },
     "metadata": {},
     "output_type": "display_data"
    },
    {
     "data": {
      "text/plain": [
       "\n",
       "Reliability analysis   \n",
       "Call: alpha(x = Anstrengung, use = \"complete.obs\")\n",
       "\n",
       "  raw_alpha std.alpha G6(smc) average_r S/N   ase mean   sd median_r\n",
       "      0.91      0.91    0.92      0.72  10 0.021  6.2 0.86     0.67\n",
       "\n",
       "    95% confidence boundaries \n",
       "         lower alpha upper\n",
       "Feldt     0.86  0.91  0.94\n",
       "Duhachek  0.87  0.91  0.95\n",
       "\n",
       " Reliability if an item is dropped:\n",
       "     raw_alpha std.alpha G6(smc) average_r S/N alpha se  var.r med.r\n",
       "EE01      0.90      0.90    0.89      0.74 8.7    0.025 0.0232  0.66\n",
       "EE02      0.86      0.87    0.82      0.69 6.5    0.034 0.0035  0.65\n",
       "EE03      0.87      0.87    0.83      0.70 6.9    0.032 0.0025  0.68\n",
       "EE04      0.90      0.90    0.89      0.75 9.0    0.024 0.0222  0.68\n",
       "\n",
       " Item statistics \n",
       "      n raw.r std.r r.cor r.drop mean   sd\n",
       "EE01 50  0.85  0.87  0.80   0.76  6.3 0.86\n",
       "EE02 50  0.93  0.92  0.92   0.86  6.1 1.06\n",
       "EE03 50  0.92  0.91  0.90   0.84  6.2 1.02\n",
       "EE04 50  0.85  0.86  0.79   0.75  6.3 0.91\n",
       "\n",
       "Non missing response frequency for each item\n",
       "        3    4    5    6    7 miss\n",
       "EE01 0.00 0.02 0.20 0.26 0.52    0\n",
       "EE02 0.02 0.06 0.22 0.24 0.46    0\n",
       "EE03 0.02 0.04 0.20 0.24 0.50    0\n",
       "EE04 0.00 0.06 0.12 0.28 0.54    0"
      ]
     },
     "metadata": {},
     "output_type": "display_data"
    }
   ],
   "source": [
    "head(Anstrengung)\n",
    "#Gesamtanalyse mit R Package\n",
    "report = itemAnalysis(Anstrengung, itemReport=TRUE)\n",
    "report[[\"itemReport\"]]\n",
    "\n",
    "#Unkorrigierte Itemtrennschärfe\n",
    "trennschaerfeAnstrengung = cor(Anstrengung)\n",
    "round(trennschaerfeAnstrengung,2)\n",
    "\n",
    "#Alpha\n",
    "alpha(Anstrengung, use=\"complete.obs\")"
   ]
  },
  {
   "cell_type": "markdown",
   "id": "b9f3063f",
   "metadata": {},
   "source": [
    "### <span style=\"font-weight:bold\">Interpretation</span>\n",
    "Unser sehr guter hoher Cronbachs Alpha-Wert von 0.91, lässt darauf schließen, dass eine gute interne Konsistenz herrscht.\n",
    "\n",
    "Aufgrund der nachfolgenden Kennzahlen sind wir auf jeden Fall zum Entschluss gekommen keines der Items zu entfernen aufgrund der Bildung eines guten Kosntrukts. \n",
    "\n",
    "Die Schwierigkeiten der Items variieren zwischen 0.866 und 0.880, was einen auf den Entschluss kommen lässt, dass diese eine passende Herausforderung darstellen und auch eine hervorragende Abdeckung des Kontrukts. \n",
    "Die Itemtrennschärfe ist zusammenfassend gut mit Werten zwischen 0.746 und 0.857, was bedeutet, dass die gewählten Items gute Unterscheidungen aufweisen zwischen Probanten mit hohen und weniger hohen Erwartungen an Anstrengung. \n",
    "\n",
    "Mit Werten zwischen 0.858 und 1.058 liegt die Varianz in einem Bereich der genügende Variabilität aufweist. Sie tragen also gut zur Unterscheidung der Probanten bei. "
   ]
  },
  {
   "cell_type": "markdown",
   "id": "1b95d156",
   "metadata": {},
   "source": [
    "### <span style=\"color:rgb(145, 40, 33); font-weight:bold\">Sozialer Einfluss</span>"
   ]
  },
  {
   "cell_type": "code",
   "execution_count": 43,
   "id": "e5bc3ecc",
   "metadata": {
    "vscode": {
     "languageId": "r"
    }
   },
   "outputs": [
    {
     "data": {
      "text/html": [
       "<table>\n",
       "<thead><tr><th scope=col>SI01</th><th scope=col>SI02</th><th scope=col>SI03</th><th scope=col>SI04</th><th scope=col>SI05</th></tr></thead>\n",
       "<tbody>\n",
       "\t<tr><td>5</td><td>5</td><td>5</td><td>6</td><td>2</td></tr>\n",
       "\t<tr><td>1</td><td>1</td><td>1</td><td>7</td><td>2</td></tr>\n",
       "\t<tr><td>2</td><td>2</td><td>2</td><td>6</td><td>6</td></tr>\n",
       "\t<tr><td>6</td><td>6</td><td>6</td><td>7</td><td>5</td></tr>\n",
       "\t<tr><td>6</td><td>6</td><td>7</td><td>7</td><td>5</td></tr>\n",
       "\t<tr><td>4</td><td>4</td><td>7</td><td>6</td><td>6</td></tr>\n",
       "</tbody>\n",
       "</table>\n"
      ],
      "text/latex": [
       "\\begin{tabular}{r|lllll}\n",
       " SI01 & SI02 & SI03 & SI04 & SI05\\\\\n",
       "\\hline\n",
       "\t 5 & 5 & 5 & 6 & 2\\\\\n",
       "\t 1 & 1 & 1 & 7 & 2\\\\\n",
       "\t 2 & 2 & 2 & 6 & 6\\\\\n",
       "\t 6 & 6 & 6 & 7 & 5\\\\\n",
       "\t 6 & 6 & 7 & 7 & 5\\\\\n",
       "\t 4 & 4 & 7 & 6 & 6\\\\\n",
       "\\end{tabular}\n"
      ],
      "text/markdown": [
       "\n",
       "| SI01 | SI02 | SI03 | SI04 | SI05 |\n",
       "|---|---|---|---|---|\n",
       "| 5 | 5 | 5 | 6 | 2 |\n",
       "| 1 | 1 | 1 | 7 | 2 |\n",
       "| 2 | 2 | 2 | 6 | 6 |\n",
       "| 6 | 6 | 6 | 7 | 5 |\n",
       "| 6 | 6 | 7 | 7 | 5 |\n",
       "| 4 | 4 | 7 | 6 | 6 |\n",
       "\n"
      ],
      "text/plain": [
       "  SI01 SI02 SI03 SI04 SI05\n",
       "1 5    5    5    6    2   \n",
       "2 1    1    1    7    2   \n",
       "3 2    2    2    6    6   \n",
       "4 6    6    6    7    5   \n",
       "5 6    6    7    7    5   \n",
       "6 4    4    7    6    6   "
      ]
     },
     "metadata": {},
     "output_type": "display_data"
    },
    {
     "data": {
      "text/html": [
       "<table>\n",
       "<thead><tr><th scope=col>itemName</th><th scope=col>itemMean</th><th scope=col>pBis</th><th scope=col>bis</th><th scope=col>alphaIfDeleted</th></tr></thead>\n",
       "<tbody>\n",
       "\t<tr><td>SI01       </td><td>4.38       </td><td> 0.75671933</td><td> 0.80138550</td><td>0.5041470  </td></tr>\n",
       "\t<tr><td>SI02       </td><td>4.24       </td><td> 0.78496430</td><td> 0.83665799</td><td>0.4887689  </td></tr>\n",
       "\t<tr><td>SI03       </td><td>4.38       </td><td> 0.84407775</td><td> 0.89058940</td><td>0.4546729  </td></tr>\n",
       "\t<tr><td>SI04       </td><td>6.02       </td><td>-0.02615434</td><td>-0.02918929</td><td>0.7706589  </td></tr>\n",
       "\t<tr><td>SI05       </td><td>4.40       </td><td> 0.02078148</td><td> 0.02188164</td><td>0.8244237  </td></tr>\n",
       "</tbody>\n",
       "</table>\n"
      ],
      "text/latex": [
       "\\begin{tabular}{r|lllll}\n",
       " itemName & itemMean & pBis & bis & alphaIfDeleted\\\\\n",
       "\\hline\n",
       "\t SI01        & 4.38        &  0.75671933 &  0.80138550 & 0.5041470  \\\\\n",
       "\t SI02        & 4.24        &  0.78496430 &  0.83665799 & 0.4887689  \\\\\n",
       "\t SI03        & 4.38        &  0.84407775 &  0.89058940 & 0.4546729  \\\\\n",
       "\t SI04        & 6.02        & -0.02615434 & -0.02918929 & 0.7706589  \\\\\n",
       "\t SI05        & 4.40        &  0.02078148 &  0.02188164 & 0.8244237  \\\\\n",
       "\\end{tabular}\n"
      ],
      "text/markdown": [
       "\n",
       "| itemName | itemMean | pBis | bis | alphaIfDeleted |\n",
       "|---|---|---|---|---|\n",
       "| SI01        | 4.38        |  0.75671933 |  0.80138550 | 0.5041470   |\n",
       "| SI02        | 4.24        |  0.78496430 |  0.83665799 | 0.4887689   |\n",
       "| SI03        | 4.38        |  0.84407775 |  0.89058940 | 0.4546729   |\n",
       "| SI04        | 6.02        | -0.02615434 | -0.02918929 | 0.7706589   |\n",
       "| SI05        | 4.40        |  0.02078148 |  0.02188164 | 0.8244237   |\n",
       "\n"
      ],
      "text/plain": [
       "  itemName itemMean pBis        bis         alphaIfDeleted\n",
       "1 SI01     4.38      0.75671933  0.80138550 0.5041470     \n",
       "2 SI02     4.24      0.78496430  0.83665799 0.4887689     \n",
       "3 SI03     4.38      0.84407775  0.89058940 0.4546729     \n",
       "4 SI04     6.02     -0.02615434 -0.02918929 0.7706589     \n",
       "5 SI05     4.40      0.02078148  0.02188164 0.8244237     "
      ]
     },
     "metadata": {},
     "output_type": "display_data"
    },
    {
     "data": {
      "text/html": [
       "<table>\n",
       "<thead><tr><th></th><th scope=col>SI01</th><th scope=col>SI02</th><th scope=col>SI03</th><th scope=col>SI04</th><th scope=col>SI05</th></tr></thead>\n",
       "<tbody>\n",
       "\t<tr><th scope=row>SI01</th><td> 1.00</td><td>0.82 </td><td>0.88 </td><td>-0.05</td><td> 0.02</td></tr>\n",
       "\t<tr><th scope=row>SI02</th><td> 0.82</td><td>1.00 </td><td>0.84 </td><td> 0.09</td><td> 0.04</td></tr>\n",
       "\t<tr><th scope=row>SI03</th><td> 0.88</td><td>0.84 </td><td>1.00 </td><td> 0.07</td><td> 0.09</td></tr>\n",
       "\t<tr><th scope=row>SI04</th><td>-0.05</td><td>0.09 </td><td>0.07 </td><td> 1.00</td><td>-0.19</td></tr>\n",
       "\t<tr><th scope=row>SI05</th><td> 0.02</td><td>0.04 </td><td>0.09 </td><td>-0.19</td><td> 1.00</td></tr>\n",
       "</tbody>\n",
       "</table>\n"
      ],
      "text/latex": [
       "\\begin{tabular}{r|lllll}\n",
       "  & SI01 & SI02 & SI03 & SI04 & SI05\\\\\n",
       "\\hline\n",
       "\tSI01 &  1.00 & 0.82  & 0.88  & -0.05 &  0.02\\\\\n",
       "\tSI02 &  0.82 & 1.00  & 0.84  &  0.09 &  0.04\\\\\n",
       "\tSI03 &  0.88 & 0.84  & 1.00  &  0.07 &  0.09\\\\\n",
       "\tSI04 & -0.05 & 0.09  & 0.07  &  1.00 & -0.19\\\\\n",
       "\tSI05 &  0.02 & 0.04  & 0.09  & -0.19 &  1.00\\\\\n",
       "\\end{tabular}\n"
      ],
      "text/markdown": [
       "\n",
       "| <!--/--> | SI01 | SI02 | SI03 | SI04 | SI05 |\n",
       "|---|---|---|---|---|---|\n",
       "| SI01 |  1.00 | 0.82  | 0.88  | -0.05 |  0.02 |\n",
       "| SI02 |  0.82 | 1.00  | 0.84  |  0.09 |  0.04 |\n",
       "| SI03 |  0.88 | 0.84  | 1.00  |  0.07 |  0.09 |\n",
       "| SI04 | -0.05 | 0.09  | 0.07  |  1.00 | -0.19 |\n",
       "| SI05 |  0.02 | 0.04  | 0.09  | -0.19 |  1.00 |\n",
       "\n"
      ],
      "text/plain": [
       "     SI01  SI02 SI03 SI04  SI05 \n",
       "SI01  1.00 0.82 0.88 -0.05  0.02\n",
       "SI02  0.82 1.00 0.84  0.09  0.04\n",
       "SI03  0.88 0.84 1.00  0.07  0.09\n",
       "SI04 -0.05 0.09 0.07  1.00 -0.19\n",
       "SI05  0.02 0.04 0.09 -0.19  1.00"
      ]
     },
     "metadata": {},
     "output_type": "display_data"
    },
    {
     "data": {
      "text/plain": [
       "\n",
       "Reliability analysis   \n",
       "Call: alpha(x = sozialerEinfluss, use = \"complete.obs\")\n",
       "\n",
       "  raw_alpha std.alpha G6(smc) average_r S/N   ase mean  sd median_r\n",
       "       0.7      0.64    0.77      0.26 1.8 0.056  4.7 1.1    0.077\n",
       "\n",
       "    95% confidence boundaries \n",
       "         lower alpha upper\n",
       "Feldt     0.55   0.7  0.82\n",
       "Duhachek  0.59   0.7  0.81\n",
       "\n",
       " Reliability if an item is dropped:\n",
       "     raw_alpha std.alpha G6(smc) average_r  S/N alpha se var.r med.r\n",
       "SI01      0.50      0.43    0.58      0.16 0.74    0.101  0.12 0.077\n",
       "SI02      0.49      0.39    0.61      0.14 0.63    0.103  0.14 0.043\n",
       "SI03      0.45      0.36    0.55      0.12 0.55    0.111  0.13 0.030\n",
       "SI04      0.77      0.77    0.83      0.45 3.27    0.054  0.19 0.455\n",
       "SI05      0.82      0.76    0.84      0.44 3.18    0.027  0.20 0.454\n",
       "\n",
       " Item statistics \n",
       "      n raw.r std.r r.cor r.drop mean  sd\n",
       "SI01 50  0.88  0.84 0.893  0.757  4.4 1.7\n",
       "SI02 50  0.89  0.87 0.907  0.785  4.2 1.7\n",
       "SI03 50  0.92  0.90 0.971  0.844  4.4 1.7\n",
       "SI04 50  0.12  0.29 0.015 -0.026  6.0 0.8\n",
       "SI05 50  0.33  0.30 0.013  0.021  4.4 1.7\n",
       "\n",
       "Non missing response frequency for each item\n",
       "        1    2    3    4    5    6    7 miss\n",
       "SI01 0.12 0.04 0.02 0.38 0.14 0.20 0.10    0\n",
       "SI02 0.14 0.04 0.04 0.34 0.14 0.26 0.04    0\n",
       "SI03 0.12 0.04 0.08 0.24 0.20 0.26 0.06    0\n",
       "SI04 0.00 0.00 0.00 0.00 0.30 0.38 0.32    0\n",
       "SI05 0.06 0.14 0.08 0.12 0.32 0.22 0.06    0"
      ]
     },
     "metadata": {},
     "output_type": "display_data"
    }
   ],
   "source": [
    "head(sozialerEinfluss)\n",
    "#Gesamtanalyse mit R Package\n",
    "report = itemAnalysis(sozialerEinfluss, itemReport=TRUE)\n",
    "report[[\"itemReport\"]]\n",
    "\n",
    "#Unkorrigierte Itemtrennschärfe\n",
    "trennschaerfesozialerEinfluss = cor(sozialerEinfluss)\n",
    "round(trennschaerfesozialerEinfluss,2)\n",
    "\n",
    "#Alpha\n",
    "alpha(sozialerEinfluss, use=\"complete.obs\")"
   ]
  },
  {
   "cell_type": "markdown",
   "id": "4156d404",
   "metadata": {},
   "source": [
    "### <span style=\"font-weight:bold\">Interpretation</span>\n",
    "\n",
    "Aufgrund der folgenden Kennzahlen würden wir uns dazu entscheiden das Item \"SI04\" zu etfernen. Aufgrund der negativen Trennschärfe von -0.026 was zu einer negativen Korrealtion führen würde.\n",
    "\n",
    "Generell weist das Konstrukt keine guten Zusammenhängen auf. Der Cronbach Alpha Wert von 0.7 ist gut, stellenweise auch nur als akzeptabel klassifiziert. \n",
    "\n",
    "Wir würden das Kosntrukt jedenfalls überarbeiten und in Erwägung ziehen, \"SI04\" zu entfernen. "
   ]
  },
  {
   "cell_type": "markdown",
   "id": "0e0f4dbc",
   "metadata": {},
   "source": [
    "### <span style=\"color:rgb(145, 40, 33); font-weight:bold\">Günstige Bedingungen</span>"
   ]
  },
  {
   "cell_type": "code",
   "execution_count": 44,
   "id": "85791226",
   "metadata": {
    "vscode": {
     "languageId": "r"
    }
   },
   "outputs": [
    {
     "data": {
      "text/html": [
       "<table>\n",
       "<thead><tr><th scope=col>FC01</th><th scope=col>FC02</th><th scope=col>FC03</th><th scope=col>FC04</th><th scope=col>FC05</th></tr></thead>\n",
       "<tbody>\n",
       "\t<tr><td>6</td><td>7</td><td>7</td><td>6</td><td>3</td></tr>\n",
       "\t<tr><td>6</td><td>6</td><td>6</td><td>6</td><td>2</td></tr>\n",
       "\t<tr><td>4</td><td>6</td><td>6</td><td>6</td><td>3</td></tr>\n",
       "\t<tr><td>6</td><td>6</td><td>6</td><td>6</td><td>1</td></tr>\n",
       "\t<tr><td>7</td><td>6</td><td>6</td><td>5</td><td>1</td></tr>\n",
       "\t<tr><td>7</td><td>7</td><td>7</td><td>7</td><td>1</td></tr>\n",
       "</tbody>\n",
       "</table>\n"
      ],
      "text/latex": [
       "\\begin{tabular}{r|lllll}\n",
       " FC01 & FC02 & FC03 & FC04 & FC05\\\\\n",
       "\\hline\n",
       "\t 6 & 7 & 7 & 6 & 3\\\\\n",
       "\t 6 & 6 & 6 & 6 & 2\\\\\n",
       "\t 4 & 6 & 6 & 6 & 3\\\\\n",
       "\t 6 & 6 & 6 & 6 & 1\\\\\n",
       "\t 7 & 6 & 6 & 5 & 1\\\\\n",
       "\t 7 & 7 & 7 & 7 & 1\\\\\n",
       "\\end{tabular}\n"
      ],
      "text/markdown": [
       "\n",
       "| FC01 | FC02 | FC03 | FC04 | FC05 |\n",
       "|---|---|---|---|---|\n",
       "| 6 | 7 | 7 | 6 | 3 |\n",
       "| 6 | 6 | 6 | 6 | 2 |\n",
       "| 4 | 6 | 6 | 6 | 3 |\n",
       "| 6 | 6 | 6 | 6 | 1 |\n",
       "| 7 | 6 | 6 | 5 | 1 |\n",
       "| 7 | 7 | 7 | 7 | 1 |\n",
       "\n"
      ],
      "text/plain": [
       "  FC01 FC02 FC03 FC04 FC05\n",
       "1 6    7    7    6    3   \n",
       "2 6    6    6    6    2   \n",
       "3 4    6    6    6    3   \n",
       "4 6    6    6    6    1   \n",
       "5 7    6    6    5    1   \n",
       "6 7    7    7    7    1   "
      ]
     },
     "metadata": {},
     "output_type": "display_data"
    },
    {
     "data": {
      "text/html": [
       "<table>\n",
       "<thead><tr><th scope=col>itemName</th><th scope=col>itemMean</th><th scope=col>pBis</th><th scope=col>bis</th><th scope=col>alphaIfDeleted</th></tr></thead>\n",
       "<tbody>\n",
       "\t<tr><td>FC01      </td><td>6.50      </td><td>0.40606634</td><td>0.50163778</td><td>0.5142822 </td></tr>\n",
       "\t<tr><td>FC02      </td><td>6.38      </td><td>0.60886176</td><td>0.71055035</td><td>0.4176083 </td></tr>\n",
       "\t<tr><td>FC03      </td><td>6.34      </td><td>0.68461984</td><td>0.80476058</td><td>0.3475172 </td></tr>\n",
       "\t<tr><td>FC04      </td><td>5.96      </td><td>0.20699199</td><td>0.23430793</td><td>0.6488336 </td></tr>\n",
       "\t<tr><td>FC05      </td><td>2.50      </td><td>0.04140941</td><td>0.04416708</td><td>0.6887026 </td></tr>\n",
       "</tbody>\n",
       "</table>\n"
      ],
      "text/latex": [
       "\\begin{tabular}{r|lllll}\n",
       " itemName & itemMean & pBis & bis & alphaIfDeleted\\\\\n",
       "\\hline\n",
       "\t FC01       & 6.50       & 0.40606634 & 0.50163778 & 0.5142822 \\\\\n",
       "\t FC02       & 6.38       & 0.60886176 & 0.71055035 & 0.4176083 \\\\\n",
       "\t FC03       & 6.34       & 0.68461984 & 0.80476058 & 0.3475172 \\\\\n",
       "\t FC04       & 5.96       & 0.20699199 & 0.23430793 & 0.6488336 \\\\\n",
       "\t FC05       & 2.50       & 0.04140941 & 0.04416708 & 0.6887026 \\\\\n",
       "\\end{tabular}\n"
      ],
      "text/markdown": [
       "\n",
       "| itemName | itemMean | pBis | bis | alphaIfDeleted |\n",
       "|---|---|---|---|---|\n",
       "| FC01       | 6.50       | 0.40606634 | 0.50163778 | 0.5142822  |\n",
       "| FC02       | 6.38       | 0.60886176 | 0.71055035 | 0.4176083  |\n",
       "| FC03       | 6.34       | 0.68461984 | 0.80476058 | 0.3475172  |\n",
       "| FC04       | 5.96       | 0.20699199 | 0.23430793 | 0.6488336  |\n",
       "| FC05       | 2.50       | 0.04140941 | 0.04416708 | 0.6887026  |\n",
       "\n"
      ],
      "text/plain": [
       "  itemName itemMean pBis       bis        alphaIfDeleted\n",
       "1 FC01     6.50     0.40606634 0.50163778 0.5142822     \n",
       "2 FC02     6.38     0.60886176 0.71055035 0.4176083     \n",
       "3 FC03     6.34     0.68461984 0.80476058 0.3475172     \n",
       "4 FC04     5.96     0.20699199 0.23430793 0.6488336     \n",
       "5 FC05     2.50     0.04140941 0.04416708 0.6887026     "
      ]
     },
     "metadata": {},
     "output_type": "display_data"
    },
    {
     "data": {
      "text/html": [
       "<table>\n",
       "<thead><tr><th></th><th scope=col>FC01</th><th scope=col>FC02</th><th scope=col>FC03</th><th scope=col>FC04</th><th scope=col>FC05</th></tr></thead>\n",
       "<tbody>\n",
       "\t<tr><th scope=row>FC01</th><td>1.00 </td><td>0.42 </td><td>0.51 </td><td> 0.18</td><td> 0.01</td></tr>\n",
       "\t<tr><th scope=row>FC02</th><td>0.42 </td><td>1.00 </td><td>0.71 </td><td> 0.22</td><td> 0.22</td></tr>\n",
       "\t<tr><th scope=row>FC03</th><td>0.51 </td><td>0.71 </td><td>1.00 </td><td> 0.36</td><td> 0.13</td></tr>\n",
       "\t<tr><th scope=row>FC04</th><td>0.18 </td><td>0.22 </td><td>0.36 </td><td> 1.00</td><td>-0.15</td></tr>\n",
       "\t<tr><th scope=row>FC05</th><td>0.01 </td><td>0.22 </td><td>0.13 </td><td>-0.15</td><td> 1.00</td></tr>\n",
       "</tbody>\n",
       "</table>\n"
      ],
      "text/latex": [
       "\\begin{tabular}{r|lllll}\n",
       "  & FC01 & FC02 & FC03 & FC04 & FC05\\\\\n",
       "\\hline\n",
       "\tFC01 & 1.00  & 0.42  & 0.51  &  0.18 &  0.01\\\\\n",
       "\tFC02 & 0.42  & 1.00  & 0.71  &  0.22 &  0.22\\\\\n",
       "\tFC03 & 0.51  & 0.71  & 1.00  &  0.36 &  0.13\\\\\n",
       "\tFC04 & 0.18  & 0.22  & 0.36  &  1.00 & -0.15\\\\\n",
       "\tFC05 & 0.01  & 0.22  & 0.13  & -0.15 &  1.00\\\\\n",
       "\\end{tabular}\n"
      ],
      "text/markdown": [
       "\n",
       "| <!--/--> | FC01 | FC02 | FC03 | FC04 | FC05 |\n",
       "|---|---|---|---|---|---|\n",
       "| FC01 | 1.00  | 0.42  | 0.51  |  0.18 |  0.01 |\n",
       "| FC02 | 0.42  | 1.00  | 0.71  |  0.22 |  0.22 |\n",
       "| FC03 | 0.51  | 0.71  | 1.00  |  0.36 |  0.13 |\n",
       "| FC04 | 0.18  | 0.22  | 0.36  |  1.00 | -0.15 |\n",
       "| FC05 | 0.01  | 0.22  | 0.13  | -0.15 |  1.00 |\n",
       "\n"
      ],
      "text/plain": [
       "     FC01 FC02 FC03 FC04  FC05 \n",
       "FC01 1.00 0.42 0.51  0.18  0.01\n",
       "FC02 0.42 1.00 0.71  0.22  0.22\n",
       "FC03 0.51 0.71 1.00  0.36  0.13\n",
       "FC04 0.18 0.22 0.36  1.00 -0.15\n",
       "FC05 0.01 0.22 0.13 -0.15  1.00"
      ]
     },
     "metadata": {},
     "output_type": "display_data"
    },
    {
     "data": {
      "text/plain": [
       "\n",
       "Reliability analysis   \n",
       "Call: alpha(x = günstigeBeding, use = \"complete.obs\")\n",
       "\n",
       "  raw_alpha std.alpha G6(smc) average_r S/N   ase mean  sd median_r\n",
       "      0.59      0.64    0.67      0.26 1.8 0.092  5.5 0.6     0.22\n",
       "\n",
       "    95% confidence boundaries \n",
       "         lower alpha upper\n",
       "Feldt     0.38  0.59  0.75\n",
       "Duhachek  0.41  0.59  0.77\n",
       "\n",
       " Reliability if an item is dropped:\n",
       "     raw_alpha std.alpha G6(smc) average_r  S/N alpha se var.r med.r\n",
       "FC01      0.51      0.57    0.62      0.25 1.31    0.115 0.080  0.22\n",
       "FC02      0.42      0.46    0.48      0.17 0.84    0.134 0.056  0.15\n",
       "FC03      0.35      0.41    0.42      0.15 0.71    0.153 0.038  0.20\n",
       "FC04      0.65      0.67    0.67      0.33 1.99    0.083 0.067  0.32\n",
       "FC05      0.69      0.73    0.71      0.40 2.65    0.074 0.038  0.39\n",
       "\n",
       " Item statistics \n",
       "      n raw.r std.r r.cor r.drop mean   sd\n",
       "FC01 50  0.62  0.66  0.53  0.406  6.5 0.81\n",
       "FC02 50  0.76  0.80  0.80  0.609  6.4 0.81\n",
       "FC03 50  0.83  0.85  0.88  0.685  6.3 0.92\n",
       "FC04 50  0.59  0.50  0.30  0.207  6.0 1.26\n",
       "FC05 50  0.36  0.38  0.12  0.041  2.5 0.97\n",
       "\n",
       "Non missing response frequency for each item\n",
       "        1   2    3    4    5    6    7 miss\n",
       "FC01 0.00 0.0 0.00 0.04 0.08 0.22 0.66    0\n",
       "FC02 0.00 0.0 0.00 0.04 0.08 0.34 0.54    0\n",
       "FC03 0.00 0.0 0.00 0.06 0.12 0.24 0.58    0\n",
       "FC04 0.00 0.0 0.06 0.12 0.08 0.28 0.46    0\n",
       "FC05 0.18 0.3 0.36 0.16 0.00 0.00 0.00    0"
      ]
     },
     "metadata": {},
     "output_type": "display_data"
    }
   ],
   "source": [
    "head(günstigeBeding)\n",
    "#Gesamtanalyse mit R Package\n",
    "report = itemAnalysis(günstigeBeding, itemReport=TRUE)\n",
    "report[[\"itemReport\"]]\n",
    "\n",
    "#Unkorrigierte Itemtrennschärfe\n",
    "trennschaerfegünstigeBeding = cor(günstigeBeding)\n",
    "round(trennschaerfegünstigeBeding,2)\n",
    "\n",
    "#Alpha\n",
    "alpha(günstigeBeding, use=\"complete.obs\")"
   ]
  },
  {
   "cell_type": "markdown",
   "id": "14049df9",
   "metadata": {},
   "source": [
    "### <span style=\"font-weight:bold\">Interpretation</span>\n",
    "\n",
    "Der Cronbach Alpha Wert dieses Konstrukst liegt bei 0.51, was als nicht akzeptabel eingestuft wird. Dies bedeutet widerum, dass die gewählten Items nicht gut miteinander korreliren und das Konstrukt in jedem Fall nicht zuverlässig ist. \n",
    "\n",
    "Es zeichnet sich ab, dass das Item \"FC04\" das wahrscheinlich schlechte ist für dieses Kosntrukt. Wir ziehen in Erwägung dieses zu entfernen, um das Konstrukt qualitativ zu verbessern. Auch \"FC01\" sollte überarbeitet werden aufgrund des Trennwertes von 0.01."
   ]
  },
  {
   "cell_type": "markdown",
   "id": "a89e00d9",
   "metadata": {},
   "source": [
    "### <span style=\"color:rgb(145, 40, 33); font-weight:bold\">Intention E-Participation</span>"
   ]
  },
  {
   "cell_type": "code",
   "execution_count": 45,
   "id": "995f4592",
   "metadata": {
    "vscode": {
     "languageId": "r"
    }
   },
   "outputs": [
    {
     "data": {
      "text/html": [
       "<table>\n",
       "<thead><tr><th scope=col>BIP01</th><th scope=col>BIP02</th><th scope=col>BIP03</th><th scope=col>BIP04</th><th scope=col>BIP05</th><th scope=col>BIP06</th></tr></thead>\n",
       "<tbody>\n",
       "\t<tr><td>7</td><td>7</td><td>7</td><td>7</td><td>7</td><td>7</td></tr>\n",
       "\t<tr><td>6</td><td>6</td><td>6</td><td>6</td><td>6</td><td>6</td></tr>\n",
       "\t<tr><td>5</td><td>5</td><td>5</td><td>5</td><td>5</td><td>5</td></tr>\n",
       "\t<tr><td>7</td><td>7</td><td>7</td><td>7</td><td>7</td><td>7</td></tr>\n",
       "\t<tr><td>6</td><td>6</td><td>5</td><td>6</td><td>7</td><td>6</td></tr>\n",
       "\t<tr><td>7</td><td>7</td><td>7</td><td>7</td><td>7</td><td>7</td></tr>\n",
       "</tbody>\n",
       "</table>\n"
      ],
      "text/latex": [
       "\\begin{tabular}{r|llllll}\n",
       " BIP01 & BIP02 & BIP03 & BIP04 & BIP05 & BIP06\\\\\n",
       "\\hline\n",
       "\t 7 & 7 & 7 & 7 & 7 & 7\\\\\n",
       "\t 6 & 6 & 6 & 6 & 6 & 6\\\\\n",
       "\t 5 & 5 & 5 & 5 & 5 & 5\\\\\n",
       "\t 7 & 7 & 7 & 7 & 7 & 7\\\\\n",
       "\t 6 & 6 & 5 & 6 & 7 & 6\\\\\n",
       "\t 7 & 7 & 7 & 7 & 7 & 7\\\\\n",
       "\\end{tabular}\n"
      ],
      "text/markdown": [
       "\n",
       "| BIP01 | BIP02 | BIP03 | BIP04 | BIP05 | BIP06 |\n",
       "|---|---|---|---|---|---|\n",
       "| 7 | 7 | 7 | 7 | 7 | 7 |\n",
       "| 6 | 6 | 6 | 6 | 6 | 6 |\n",
       "| 5 | 5 | 5 | 5 | 5 | 5 |\n",
       "| 7 | 7 | 7 | 7 | 7 | 7 |\n",
       "| 6 | 6 | 5 | 6 | 7 | 6 |\n",
       "| 7 | 7 | 7 | 7 | 7 | 7 |\n",
       "\n"
      ],
      "text/plain": [
       "  BIP01 BIP02 BIP03 BIP04 BIP05 BIP06\n",
       "1 7     7     7     7     7     7    \n",
       "2 6     6     6     6     6     6    \n",
       "3 5     5     5     5     5     5    \n",
       "4 7     7     7     7     7     7    \n",
       "5 6     6     5     6     7     6    \n",
       "6 7     7     7     7     7     7    "
      ]
     },
     "metadata": {},
     "output_type": "display_data"
    },
    {
     "data": {
      "text/html": [
       "<table>\n",
       "<thead><tr><th scope=col>itemName</th><th scope=col>itemMean</th><th scope=col>pBis</th><th scope=col>bis</th><th scope=col>alphaIfDeleted</th></tr></thead>\n",
       "<tbody>\n",
       "\t<tr><td>BIP01    </td><td>6.44     </td><td>0.7708306</td><td>0.9262101</td><td>0.9497963</td></tr>\n",
       "\t<tr><td>BIP02    </td><td>6.02     </td><td>0.8902209</td><td>0.9872603</td><td>0.9363689</td></tr>\n",
       "\t<tr><td>BIP03    </td><td>6.10     </td><td>0.9067668</td><td>1.0241971</td><td>0.9346243</td></tr>\n",
       "\t<tr><td>BIP04    </td><td>6.26     </td><td>0.9009885</td><td>1.0214990</td><td>0.9359407</td></tr>\n",
       "\t<tr><td>BIP05    </td><td>6.16     </td><td>0.7853338</td><td>0.8840871</td><td>0.9485598</td></tr>\n",
       "\t<tr><td>BIP06    </td><td>6.24     </td><td>0.8609095</td><td>0.9701871</td><td>0.9402845</td></tr>\n",
       "</tbody>\n",
       "</table>\n"
      ],
      "text/latex": [
       "\\begin{tabular}{r|lllll}\n",
       " itemName & itemMean & pBis & bis & alphaIfDeleted\\\\\n",
       "\\hline\n",
       "\t BIP01     & 6.44      & 0.7708306 & 0.9262101 & 0.9497963\\\\\n",
       "\t BIP02     & 6.02      & 0.8902209 & 0.9872603 & 0.9363689\\\\\n",
       "\t BIP03     & 6.10      & 0.9067668 & 1.0241971 & 0.9346243\\\\\n",
       "\t BIP04     & 6.26      & 0.9009885 & 1.0214990 & 0.9359407\\\\\n",
       "\t BIP05     & 6.16      & 0.7853338 & 0.8840871 & 0.9485598\\\\\n",
       "\t BIP06     & 6.24      & 0.8609095 & 0.9701871 & 0.9402845\\\\\n",
       "\\end{tabular}\n"
      ],
      "text/markdown": [
       "\n",
       "| itemName | itemMean | pBis | bis | alphaIfDeleted |\n",
       "|---|---|---|---|---|\n",
       "| BIP01     | 6.44      | 0.7708306 | 0.9262101 | 0.9497963 |\n",
       "| BIP02     | 6.02      | 0.8902209 | 0.9872603 | 0.9363689 |\n",
       "| BIP03     | 6.10      | 0.9067668 | 1.0241971 | 0.9346243 |\n",
       "| BIP04     | 6.26      | 0.9009885 | 1.0214990 | 0.9359407 |\n",
       "| BIP05     | 6.16      | 0.7853338 | 0.8840871 | 0.9485598 |\n",
       "| BIP06     | 6.24      | 0.8609095 | 0.9701871 | 0.9402845 |\n",
       "\n"
      ],
      "text/plain": [
       "  itemName itemMean pBis      bis       alphaIfDeleted\n",
       "1 BIP01    6.44     0.7708306 0.9262101 0.9497963     \n",
       "2 BIP02    6.02     0.8902209 0.9872603 0.9363689     \n",
       "3 BIP03    6.10     0.9067668 1.0241971 0.9346243     \n",
       "4 BIP04    6.26     0.9009885 1.0214990 0.9359407     \n",
       "5 BIP05    6.16     0.7853338 0.8840871 0.9485598     \n",
       "6 BIP06    6.24     0.8609095 0.9701871 0.9402845     "
      ]
     },
     "metadata": {},
     "output_type": "display_data"
    },
    {
     "data": {
      "text/html": [
       "<table>\n",
       "<thead><tr><th></th><th scope=col>BIP01</th><th scope=col>BIP02</th><th scope=col>BIP03</th><th scope=col>BIP04</th><th scope=col>BIP05</th><th scope=col>BIP06</th></tr></thead>\n",
       "<tbody>\n",
       "\t<tr><th scope=row>BIP01</th><td>1.00</td><td>0.66</td><td>0.75</td><td>0.73</td><td>0.72</td><td>0.66</td></tr>\n",
       "\t<tr><th scope=row>BIP02</th><td>0.66</td><td>1.00</td><td>0.90</td><td>0.81</td><td>0.75</td><td>0.86</td></tr>\n",
       "\t<tr><th scope=row>BIP03</th><td>0.75</td><td>0.90</td><td>1.00</td><td>0.89</td><td>0.70</td><td>0.81</td></tr>\n",
       "\t<tr><th scope=row>BIP04</th><td>0.73</td><td>0.81</td><td>0.89</td><td>1.00</td><td>0.75</td><td>0.85</td></tr>\n",
       "\t<tr><th scope=row>BIP05</th><td>0.72</td><td>0.75</td><td>0.70</td><td>0.75</td><td>1.00</td><td>0.68</td></tr>\n",
       "\t<tr><th scope=row>BIP06</th><td>0.66</td><td>0.86</td><td>0.81</td><td>0.85</td><td>0.68</td><td>1.00</td></tr>\n",
       "</tbody>\n",
       "</table>\n"
      ],
      "text/latex": [
       "\\begin{tabular}{r|llllll}\n",
       "  & BIP01 & BIP02 & BIP03 & BIP04 & BIP05 & BIP06\\\\\n",
       "\\hline\n",
       "\tBIP01 & 1.00 & 0.66 & 0.75 & 0.73 & 0.72 & 0.66\\\\\n",
       "\tBIP02 & 0.66 & 1.00 & 0.90 & 0.81 & 0.75 & 0.86\\\\\n",
       "\tBIP03 & 0.75 & 0.90 & 1.00 & 0.89 & 0.70 & 0.81\\\\\n",
       "\tBIP04 & 0.73 & 0.81 & 0.89 & 1.00 & 0.75 & 0.85\\\\\n",
       "\tBIP05 & 0.72 & 0.75 & 0.70 & 0.75 & 1.00 & 0.68\\\\\n",
       "\tBIP06 & 0.66 & 0.86 & 0.81 & 0.85 & 0.68 & 1.00\\\\\n",
       "\\end{tabular}\n"
      ],
      "text/markdown": [
       "\n",
       "| <!--/--> | BIP01 | BIP02 | BIP03 | BIP04 | BIP05 | BIP06 |\n",
       "|---|---|---|---|---|---|---|\n",
       "| BIP01 | 1.00 | 0.66 | 0.75 | 0.73 | 0.72 | 0.66 |\n",
       "| BIP02 | 0.66 | 1.00 | 0.90 | 0.81 | 0.75 | 0.86 |\n",
       "| BIP03 | 0.75 | 0.90 | 1.00 | 0.89 | 0.70 | 0.81 |\n",
       "| BIP04 | 0.73 | 0.81 | 0.89 | 1.00 | 0.75 | 0.85 |\n",
       "| BIP05 | 0.72 | 0.75 | 0.70 | 0.75 | 1.00 | 0.68 |\n",
       "| BIP06 | 0.66 | 0.86 | 0.81 | 0.85 | 0.68 | 1.00 |\n",
       "\n"
      ],
      "text/plain": [
       "      BIP01 BIP02 BIP03 BIP04 BIP05 BIP06\n",
       "BIP01 1.00  0.66  0.75  0.73  0.72  0.66 \n",
       "BIP02 0.66  1.00  0.90  0.81  0.75  0.86 \n",
       "BIP03 0.75  0.90  1.00  0.89  0.70  0.81 \n",
       "BIP04 0.73  0.81  0.89  1.00  0.75  0.85 \n",
       "BIP05 0.72  0.75  0.70  0.75  1.00  0.68 \n",
       "BIP06 0.66  0.86  0.81  0.85  0.68  1.00 "
      ]
     },
     "metadata": {},
     "output_type": "display_data"
    },
    {
     "data": {
      "text/plain": [
       "\n",
       "Reliability analysis   \n",
       "Call: alpha(x = eParticip, use = \"complete.obs\")\n",
       "\n",
       "  raw_alpha std.alpha G6(smc) average_r S/N   ase mean   sd median_r\n",
       "      0.95      0.95    0.96      0.77  20 0.011  6.2 0.86     0.75\n",
       "\n",
       "    95% confidence boundaries \n",
       "         lower alpha upper\n",
       "Feldt     0.93  0.95  0.97\n",
       "Duhachek  0.93  0.95  0.97\n",
       "\n",
       " Reliability if an item is dropped:\n",
       "      raw_alpha std.alpha G6(smc) average_r S/N alpha se  var.r med.r\n",
       "BIP01      0.95      0.95    0.96      0.80  20    0.011 0.0059  0.81\n",
       "BIP02      0.94      0.94    0.93      0.76  15    0.014 0.0055  0.74\n",
       "BIP03      0.93      0.94    0.93      0.75  15    0.014 0.0052  0.74\n",
       "BIP04      0.94      0.94    0.94      0.75  15    0.014 0.0068  0.74\n",
       "BIP05      0.95      0.95    0.95      0.79  19    0.011 0.0076  0.81\n",
       "BIP06      0.94      0.94    0.95      0.77  16    0.013 0.0061  0.75\n",
       "\n",
       " Item statistics \n",
       "       n raw.r std.r r.cor r.drop mean   sd\n",
       "BIP01 50  0.83  0.84  0.80   0.77  6.4 0.84\n",
       "BIP02 50  0.93  0.92  0.92   0.89  6.0 1.06\n",
       "BIP03 50  0.94  0.94  0.94   0.91  6.1 1.09\n",
       "BIP04 50  0.93  0.93  0.93   0.90  6.3 0.88\n",
       "BIP05 50  0.85  0.85  0.82   0.79  6.2 1.00\n",
       "BIP06 50  0.90  0.90  0.89   0.86  6.2 0.87\n",
       "\n",
       "Non missing response frequency for each item\n",
       "         3    4    5    6    7 miss\n",
       "BIP01 0.00 0.04 0.10 0.24 0.62    0\n",
       "BIP02 0.04 0.04 0.18 0.34 0.40    0\n",
       "BIP03 0.04 0.04 0.18 0.26 0.48    0\n",
       "BIP04 0.00 0.04 0.16 0.30 0.50    0\n",
       "BIP05 0.02 0.04 0.18 0.28 0.48    0\n",
       "BIP06 0.00 0.04 0.16 0.32 0.48    0"
      ]
     },
     "metadata": {},
     "output_type": "display_data"
    }
   ],
   "source": [
    "head(eParticip)\n",
    "#Gesamtanalyse mit R Package\n",
    "report = itemAnalysis(eParticip, itemReport=TRUE)\n",
    "report[[\"itemReport\"]]\n",
    "\n",
    "#Unkorrigierte Itemtrennschärfe\n",
    "trennschaerfeeParticip = cor(eParticip)\n",
    "round(trennschaerfeeParticip,2)\n",
    "\n",
    "#Alpha\n",
    "alpha(eParticip, use=\"complete.obs\")"
   ]
  },
  {
   "cell_type": "markdown",
   "id": "6fb8c4fa",
   "metadata": {},
   "source": [
    "### <span style=\"font-weight:bold\">Interpretation</span>\n",
    " \n",
    " Mit einem Cronbach Alpha Wert von 0.95 weist dieses Kosntrukt eine hervorragende Korrealtion mit seinen anderen Items auf. \n",
    " Es ist nicht nötig Items zu überdenken oder zu entfernen. Insgesamt sind alle Werte (Trennschärfe, Varianz) hoch, dies schließt auf ein gutes Konstrukt. "
   ]
  },
  {
   "cell_type": "markdown",
   "id": "8458e261",
   "metadata": {},
   "source": [
    "### <span style=\"color:rgb(145, 40, 33); font-weight:bold\">Kompetenz</span>"
   ]
  },
  {
   "cell_type": "code",
   "execution_count": 46,
   "id": "f1ff30c3",
   "metadata": {
    "vscode": {
     "languageId": "r"
    }
   },
   "outputs": [
    {
     "data": {
      "text/html": [
       "<table>\n",
       "<thead><tr><th scope=col>COMP01</th><th scope=col>COMP02</th><th scope=col>COMP03</th></tr></thead>\n",
       "<tbody>\n",
       "\t<tr><td>7</td><td>7</td><td>7</td></tr>\n",
       "\t<tr><td>6</td><td>6</td><td>6</td></tr>\n",
       "\t<tr><td>6</td><td>5</td><td>5</td></tr>\n",
       "\t<tr><td>7</td><td>7</td><td>7</td></tr>\n",
       "\t<tr><td>6</td><td>5</td><td>7</td></tr>\n",
       "\t<tr><td>7</td><td>7</td><td>7</td></tr>\n",
       "</tbody>\n",
       "</table>\n"
      ],
      "text/latex": [
       "\\begin{tabular}{r|lll}\n",
       " COMP01 & COMP02 & COMP03\\\\\n",
       "\\hline\n",
       "\t 7 & 7 & 7\\\\\n",
       "\t 6 & 6 & 6\\\\\n",
       "\t 6 & 5 & 5\\\\\n",
       "\t 7 & 7 & 7\\\\\n",
       "\t 6 & 5 & 7\\\\\n",
       "\t 7 & 7 & 7\\\\\n",
       "\\end{tabular}\n"
      ],
      "text/markdown": [
       "\n",
       "| COMP01 | COMP02 | COMP03 |\n",
       "|---|---|---|\n",
       "| 7 | 7 | 7 |\n",
       "| 6 | 6 | 6 |\n",
       "| 6 | 5 | 5 |\n",
       "| 7 | 7 | 7 |\n",
       "| 6 | 5 | 7 |\n",
       "| 7 | 7 | 7 |\n",
       "\n"
      ],
      "text/plain": [
       "  COMP01 COMP02 COMP03\n",
       "1 7      7      7     \n",
       "2 6      6      6     \n",
       "3 6      5      5     \n",
       "4 7      7      7     \n",
       "5 6      5      7     \n",
       "6 7      7      7     "
      ]
     },
     "metadata": {},
     "output_type": "display_data"
    },
    {
     "data": {
      "text/html": [
       "<table>\n",
       "<thead><tr><th scope=col>itemName</th><th scope=col>itemMean</th><th scope=col>pBis</th><th scope=col>bis</th><th scope=col>alphaIfDeleted</th></tr></thead>\n",
       "<tbody>\n",
       "\t<tr><td>COMP01   </td><td>6.36     </td><td>0.8170511</td><td>0.977482 </td><td>0.9522445</td></tr>\n",
       "\t<tr><td>COMP02   </td><td>6.32     </td><td>0.8907442</td><td>1.044191 </td><td>0.8958660</td></tr>\n",
       "\t<tr><td>COMP03   </td><td>6.32     </td><td>0.9129093</td><td>1.074051 </td><td>0.8779956</td></tr>\n",
       "</tbody>\n",
       "</table>\n"
      ],
      "text/latex": [
       "\\begin{tabular}{r|lllll}\n",
       " itemName & itemMean & pBis & bis & alphaIfDeleted\\\\\n",
       "\\hline\n",
       "\t COMP01    & 6.36      & 0.8170511 & 0.977482  & 0.9522445\\\\\n",
       "\t COMP02    & 6.32      & 0.8907442 & 1.044191  & 0.8958660\\\\\n",
       "\t COMP03    & 6.32      & 0.9129093 & 1.074051  & 0.8779956\\\\\n",
       "\\end{tabular}\n"
      ],
      "text/markdown": [
       "\n",
       "| itemName | itemMean | pBis | bis | alphaIfDeleted |\n",
       "|---|---|---|---|---|\n",
       "| COMP01    | 6.36      | 0.8170511 | 0.977482  | 0.9522445 |\n",
       "| COMP02    | 6.32      | 0.8907442 | 1.044191  | 0.8958660 |\n",
       "| COMP03    | 6.32      | 0.9129093 | 1.074051  | 0.8779956 |\n",
       "\n"
      ],
      "text/plain": [
       "  itemName itemMean pBis      bis      alphaIfDeleted\n",
       "1 COMP01   6.36     0.8170511 0.977482 0.9522445     \n",
       "2 COMP02   6.32     0.8907442 1.044191 0.8958660     \n",
       "3 COMP03   6.32     0.9129093 1.074051 0.8779956     "
      ]
     },
     "metadata": {},
     "output_type": "display_data"
    },
    {
     "data": {
      "text/html": [
       "<table>\n",
       "<thead><tr><th></th><th scope=col>COMP01</th><th scope=col>COMP02</th><th scope=col>COMP03</th></tr></thead>\n",
       "<tbody>\n",
       "\t<tr><th scope=row>COMP01</th><td>1.00</td><td>0.78</td><td>0.81</td></tr>\n",
       "\t<tr><th scope=row>COMP02</th><td>0.78</td><td>1.00</td><td>0.91</td></tr>\n",
       "\t<tr><th scope=row>COMP03</th><td>0.81</td><td>0.91</td><td>1.00</td></tr>\n",
       "</tbody>\n",
       "</table>\n"
      ],
      "text/latex": [
       "\\begin{tabular}{r|lll}\n",
       "  & COMP01 & COMP02 & COMP03\\\\\n",
       "\\hline\n",
       "\tCOMP01 & 1.00 & 0.78 & 0.81\\\\\n",
       "\tCOMP02 & 0.78 & 1.00 & 0.91\\\\\n",
       "\tCOMP03 & 0.81 & 0.91 & 1.00\\\\\n",
       "\\end{tabular}\n"
      ],
      "text/markdown": [
       "\n",
       "| <!--/--> | COMP01 | COMP02 | COMP03 |\n",
       "|---|---|---|---|\n",
       "| COMP01 | 1.00 | 0.78 | 0.81 |\n",
       "| COMP02 | 0.78 | 1.00 | 0.91 |\n",
       "| COMP03 | 0.81 | 0.91 | 1.00 |\n",
       "\n"
      ],
      "text/plain": [
       "       COMP01 COMP02 COMP03\n",
       "COMP01 1.00   0.78   0.81  \n",
       "COMP02 0.78   1.00   0.91  \n",
       "COMP03 0.81   0.91   1.00  "
      ]
     },
     "metadata": {},
     "output_type": "display_data"
    },
    {
     "data": {
      "text/plain": [
       "\n",
       "Reliability analysis   \n",
       "Call: alpha(x = Kompetenz, use = \"complete.obs\")\n",
       "\n",
       "  raw_alpha std.alpha G6(smc) average_r S/N   ase mean   sd median_r\n",
       "      0.94      0.94    0.92      0.84  15 0.015  6.3 0.88     0.81\n",
       "\n",
       "    95% confidence boundaries \n",
       "         lower alpha upper\n",
       "Feldt     0.90  0.94  0.96\n",
       "Duhachek  0.91  0.94  0.97\n",
       "\n",
       " Reliability if an item is dropped:\n",
       "       raw_alpha std.alpha G6(smc) average_r  S/N alpha se var.r med.r\n",
       "COMP01      0.95      0.95    0.91      0.91 20.0    0.013    NA  0.91\n",
       "COMP02      0.90      0.90    0.81      0.81  8.7    0.029    NA  0.81\n",
       "COMP03      0.88      0.88    0.78      0.78  7.2    0.034    NA  0.78\n",
       "\n",
       " Item statistics \n",
       "        n raw.r std.r r.cor r.drop mean   sd\n",
       "COMP01 50  0.91  0.92  0.84   0.82  6.4 0.90\n",
       "COMP02 50  0.95  0.95  0.93   0.89  6.3 0.94\n",
       "COMP03 50  0.96  0.96  0.95   0.91  6.3 0.96\n",
       "\n",
       "Non missing response frequency for each item\n",
       "          3    4    5    6    7 miss\n",
       "COMP01 0.00 0.08 0.04 0.32 0.56    0\n",
       "COMP02 0.00 0.06 0.14 0.22 0.58    0\n",
       "COMP03 0.02 0.04 0.10 0.28 0.56    0"
      ]
     },
     "metadata": {},
     "output_type": "display_data"
    }
   ],
   "source": [
    "head(Kompetenz)\n",
    "#Gesamtanalyse mit R Package\n",
    "report = itemAnalysis(Kompetenz, itemReport=TRUE)\n",
    "report[[\"itemReport\"]]\n",
    "\n",
    "#Unkorrigierte Itemtrennschärfe\n",
    "trennschaerfeKompetenz = cor(Kompetenz)\n",
    "round(trennschaerfeKompetenz,2)\n",
    "\n",
    "#Alpha\n",
    "alpha(Kompetenz, use=\"complete.obs\")"
   ]
  },
  {
   "cell_type": "markdown",
   "id": "7dd7093e",
   "metadata": {},
   "source": [
    "### <span style=\"font-weight:bold\">Interpretation</span>\n",
    "\n",
    "Auch hier ist der Cronbach Alpha Wert mit 0.95 hervorragend hoch. Insgesamt sind alle weiteren Wert auch wieder hoch und das Kosntrukt ist als gut einzustufen. Kein Item scheint entfernt werden zu müssen. "
   ]
  },
  {
   "cell_type": "markdown",
   "id": "e39bd58f",
   "metadata": {},
   "source": [
    "### <span style=\"color:rgb(145, 40, 33); font-weight:bold\">Bedeutung</span>"
   ]
  },
  {
   "cell_type": "code",
   "execution_count": 47,
   "id": "d9baf0cc",
   "metadata": {
    "vscode": {
     "languageId": "r"
    }
   },
   "outputs": [
    {
     "data": {
      "text/html": [
       "<table>\n",
       "<thead><tr><th scope=col>MEAN01</th><th scope=col>MEAN02</th><th scope=col>MEAN03</th></tr></thead>\n",
       "<tbody>\n",
       "\t<tr><td>7</td><td>7</td><td>7</td></tr>\n",
       "\t<tr><td>7</td><td>7</td><td>7</td></tr>\n",
       "\t<tr><td>5</td><td>6</td><td>4</td></tr>\n",
       "\t<tr><td>6</td><td>6</td><td>6</td></tr>\n",
       "\t<tr><td>6</td><td>7</td><td>6</td></tr>\n",
       "\t<tr><td>5</td><td>7</td><td>7</td></tr>\n",
       "</tbody>\n",
       "</table>\n"
      ],
      "text/latex": [
       "\\begin{tabular}{r|lll}\n",
       " MEAN01 & MEAN02 & MEAN03\\\\\n",
       "\\hline\n",
       "\t 7 & 7 & 7\\\\\n",
       "\t 7 & 7 & 7\\\\\n",
       "\t 5 & 6 & 4\\\\\n",
       "\t 6 & 6 & 6\\\\\n",
       "\t 6 & 7 & 6\\\\\n",
       "\t 5 & 7 & 7\\\\\n",
       "\\end{tabular}\n"
      ],
      "text/markdown": [
       "\n",
       "| MEAN01 | MEAN02 | MEAN03 |\n",
       "|---|---|---|\n",
       "| 7 | 7 | 7 |\n",
       "| 7 | 7 | 7 |\n",
       "| 5 | 6 | 4 |\n",
       "| 6 | 6 | 6 |\n",
       "| 6 | 7 | 6 |\n",
       "| 5 | 7 | 7 |\n",
       "\n"
      ],
      "text/plain": [
       "  MEAN01 MEAN02 MEAN03\n",
       "1 7      7      7     \n",
       "2 7      7      7     \n",
       "3 5      6      4     \n",
       "4 6      6      6     \n",
       "5 6      7      6     \n",
       "6 5      7      7     "
      ]
     },
     "metadata": {},
     "output_type": "display_data"
    },
    {
     "data": {
      "text/html": [
       "<table>\n",
       "<thead><tr><th scope=col>itemName</th><th scope=col>itemMean</th><th scope=col>pBis</th><th scope=col>bis</th><th scope=col>alphaIfDeleted</th></tr></thead>\n",
       "<tbody>\n",
       "\t<tr><td>MEAN01   </td><td>5.64     </td><td>0.8199946</td><td>0.8464138</td><td>0.9043510</td></tr>\n",
       "\t<tr><td>MEAN02   </td><td>5.82     </td><td>0.8891693</td><td>0.9478556</td><td>0.8529702</td></tr>\n",
       "\t<tr><td>MEAN03   </td><td>5.70     </td><td>0.8233065</td><td>0.8851883</td><td>0.9061137</td></tr>\n",
       "</tbody>\n",
       "</table>\n"
      ],
      "text/latex": [
       "\\begin{tabular}{r|lllll}\n",
       " itemName & itemMean & pBis & bis & alphaIfDeleted\\\\\n",
       "\\hline\n",
       "\t MEAN01    & 5.64      & 0.8199946 & 0.8464138 & 0.9043510\\\\\n",
       "\t MEAN02    & 5.82      & 0.8891693 & 0.9478556 & 0.8529702\\\\\n",
       "\t MEAN03    & 5.70      & 0.8233065 & 0.8851883 & 0.9061137\\\\\n",
       "\\end{tabular}\n"
      ],
      "text/markdown": [
       "\n",
       "| itemName | itemMean | pBis | bis | alphaIfDeleted |\n",
       "|---|---|---|---|---|\n",
       "| MEAN01    | 5.64      | 0.8199946 | 0.8464138 | 0.9043510 |\n",
       "| MEAN02    | 5.82      | 0.8891693 | 0.9478556 | 0.8529702 |\n",
       "| MEAN03    | 5.70      | 0.8233065 | 0.8851883 | 0.9061137 |\n",
       "\n"
      ],
      "text/plain": [
       "  itemName itemMean pBis      bis       alphaIfDeleted\n",
       "1 MEAN01   5.64     0.8199946 0.8464138 0.9043510     \n",
       "2 MEAN02   5.82     0.8891693 0.9478556 0.8529702     \n",
       "3 MEAN03   5.70     0.8233065 0.8851883 0.9061137     "
      ]
     },
     "metadata": {},
     "output_type": "display_data"
    },
    {
     "data": {
      "text/html": [
       "<table>\n",
       "<thead><tr><th></th><th scope=col>MEAN01</th><th scope=col>MEAN02</th><th scope=col>MEAN03</th></tr></thead>\n",
       "<tbody>\n",
       "\t<tr><th scope=row>MEAN01</th><td>1.00</td><td>0.83</td><td>0.75</td></tr>\n",
       "\t<tr><th scope=row>MEAN02</th><td>0.83</td><td>1.00</td><td>0.83</td></tr>\n",
       "\t<tr><th scope=row>MEAN03</th><td>0.75</td><td>0.83</td><td>1.00</td></tr>\n",
       "</tbody>\n",
       "</table>\n"
      ],
      "text/latex": [
       "\\begin{tabular}{r|lll}\n",
       "  & MEAN01 & MEAN02 & MEAN03\\\\\n",
       "\\hline\n",
       "\tMEAN01 & 1.00 & 0.83 & 0.75\\\\\n",
       "\tMEAN02 & 0.83 & 1.00 & 0.83\\\\\n",
       "\tMEAN03 & 0.75 & 0.83 & 1.00\\\\\n",
       "\\end{tabular}\n"
      ],
      "text/markdown": [
       "\n",
       "| <!--/--> | MEAN01 | MEAN02 | MEAN03 |\n",
       "|---|---|---|---|\n",
       "| MEAN01 | 1.00 | 0.83 | 0.75 |\n",
       "| MEAN02 | 0.83 | 1.00 | 0.83 |\n",
       "| MEAN03 | 0.75 | 0.83 | 1.00 |\n",
       "\n"
      ],
      "text/plain": [
       "       MEAN01 MEAN02 MEAN03\n",
       "MEAN01 1.00   0.83   0.75  \n",
       "MEAN02 0.83   1.00   0.83  \n",
       "MEAN03 0.75   0.83   1.00  "
      ]
     },
     "metadata": {},
     "output_type": "display_data"
    },
    {
     "data": {
      "text/plain": [
       "\n",
       "Reliability analysis   \n",
       "Call: alpha(x = Bedeutung, use = \"complete.obs\")\n",
       "\n",
       "  raw_alpha std.alpha G6(smc) average_r S/N   ase mean sd median_r\n",
       "      0.92      0.92     0.9       0.8  12 0.019  5.7  1     0.83\n",
       "\n",
       "    95% confidence boundaries \n",
       "         lower alpha upper\n",
       "Feldt     0.88  0.92  0.95\n",
       "Duhachek  0.88  0.92  0.96\n",
       "\n",
       " Reliability if an item is dropped:\n",
       "       raw_alpha std.alpha G6(smc) average_r S/N alpha se var.r med.r\n",
       "MEAN01      0.90      0.91    0.83      0.83 9.9    0.026    NA  0.83\n",
       "MEAN02      0.85      0.85    0.75      0.75 5.9    0.041    NA  0.75\n",
       "MEAN03      0.91      0.91    0.83      0.83 9.7    0.026    NA  0.83\n",
       "\n",
       " Item statistics \n",
       "        n raw.r std.r r.cor r.drop mean  sd\n",
       "MEAN01 50  0.92  0.92  0.86   0.82  5.6 1.1\n",
       "MEAN02 50  0.95  0.95  0.93   0.89  5.8 1.0\n",
       "MEAN03 50  0.93  0.92  0.86   0.82  5.7 1.2\n",
       "\n",
       "Non missing response frequency for each item\n",
       "          2    3    4    5    6    7 miss\n",
       "MEAN01 0.02 0.00 0.12 0.28 0.34 0.24    0\n",
       "MEAN02 0.02 0.00 0.08 0.20 0.44 0.26    0\n",
       "MEAN03 0.02 0.02 0.12 0.20 0.36 0.28    0"
      ]
     },
     "metadata": {},
     "output_type": "display_data"
    }
   ],
   "source": [
    "head(Bedeutung)\n",
    "#Gesamtanalyse mit R Package\n",
    "report = itemAnalysis(Bedeutung, itemReport=TRUE)\n",
    "report[[\"itemReport\"]]\n",
    "\n",
    "#Unkorrigierte Itemtrennschärfe\n",
    "trennschaerfeBedeutung = cor(Bedeutung)\n",
    "round(trennschaerfeBedeutung,2)\n",
    "\n",
    "#Alpha\n",
    "alpha(Bedeutung, use=\"complete.obs\")"
   ]
  },
  {
   "cell_type": "markdown",
   "id": "240aa709",
   "metadata": {},
   "source": [
    "### <span style=\"font-weight:bold\">Interpretation</span>\n",
    "\n",
    "Ähnlich wie bei den letzten Konstrukten ist auch die Cronbach Alpha Wert sehr gut hoch mit 0.92. wir haben kein Item ausmachen können, welches zur ENtfernung passende Kriterien erfüllen würde."
   ]
  },
  {
   "cell_type": "markdown",
   "id": "db9d0d12",
   "metadata": {},
   "source": [
    "### <span style=\"color:rgb(145, 40, 33); font-weight:bold\">Auswirkungen</span>"
   ]
  },
  {
   "cell_type": "code",
   "execution_count": 48,
   "id": "2c5edd1e",
   "metadata": {
    "vscode": {
     "languageId": "r"
    }
   },
   "outputs": [
    {
     "data": {
      "text/html": [
       "<table>\n",
       "<thead><tr><th scope=col>IMP01</th><th scope=col>IMP02</th><th scope=col>IMP03</th></tr></thead>\n",
       "<tbody>\n",
       "\t<tr><td>6</td><td>5</td><td>4</td></tr>\n",
       "\t<tr><td>5</td><td>5</td><td>5</td></tr>\n",
       "\t<tr><td>4</td><td>4</td><td>4</td></tr>\n",
       "\t<tr><td>5</td><td>5</td><td>5</td></tr>\n",
       "\t<tr><td>5</td><td>6</td><td>6</td></tr>\n",
       "\t<tr><td>5</td><td>5</td><td>5</td></tr>\n",
       "</tbody>\n",
       "</table>\n"
      ],
      "text/latex": [
       "\\begin{tabular}{r|lll}\n",
       " IMP01 & IMP02 & IMP03\\\\\n",
       "\\hline\n",
       "\t 6 & 5 & 4\\\\\n",
       "\t 5 & 5 & 5\\\\\n",
       "\t 4 & 4 & 4\\\\\n",
       "\t 5 & 5 & 5\\\\\n",
       "\t 5 & 6 & 6\\\\\n",
       "\t 5 & 5 & 5\\\\\n",
       "\\end{tabular}\n"
      ],
      "text/markdown": [
       "\n",
       "| IMP01 | IMP02 | IMP03 |\n",
       "|---|---|---|\n",
       "| 6 | 5 | 4 |\n",
       "| 5 | 5 | 5 |\n",
       "| 4 | 4 | 4 |\n",
       "| 5 | 5 | 5 |\n",
       "| 5 | 6 | 6 |\n",
       "| 5 | 5 | 5 |\n",
       "\n"
      ],
      "text/plain": [
       "  IMP01 IMP02 IMP03\n",
       "1 6     5     4    \n",
       "2 5     5     5    \n",
       "3 4     4     4    \n",
       "4 5     5     5    \n",
       "5 5     6     6    \n",
       "6 5     5     5    "
      ]
     },
     "metadata": {},
     "output_type": "display_data"
    },
    {
     "data": {
      "text/html": [
       "<table>\n",
       "<thead><tr><th scope=col>itemName</th><th scope=col>itemMean</th><th scope=col>pBis</th><th scope=col>bis</th><th scope=col>alphaIfDeleted</th></tr></thead>\n",
       "<tbody>\n",
       "\t<tr><td>IMP01    </td><td>5.10     </td><td>0.7463617</td><td>0.7833875</td><td>0.8630387</td></tr>\n",
       "\t<tr><td>IMP02    </td><td>4.84     </td><td>0.8023816</td><td>0.8358716</td><td>0.8054832</td></tr>\n",
       "\t<tr><td>IMP03    </td><td>4.44     </td><td>0.7929152</td><td>0.8330013</td><td>0.8247673</td></tr>\n",
       "</tbody>\n",
       "</table>\n"
      ],
      "text/latex": [
       "\\begin{tabular}{r|lllll}\n",
       " itemName & itemMean & pBis & bis & alphaIfDeleted\\\\\n",
       "\\hline\n",
       "\t IMP01     & 5.10      & 0.7463617 & 0.7833875 & 0.8630387\\\\\n",
       "\t IMP02     & 4.84      & 0.8023816 & 0.8358716 & 0.8054832\\\\\n",
       "\t IMP03     & 4.44      & 0.7929152 & 0.8330013 & 0.8247673\\\\\n",
       "\\end{tabular}\n"
      ],
      "text/markdown": [
       "\n",
       "| itemName | itemMean | pBis | bis | alphaIfDeleted |\n",
       "|---|---|---|---|---|\n",
       "| IMP01     | 5.10      | 0.7463617 | 0.7833875 | 0.8630387 |\n",
       "| IMP02     | 4.84      | 0.8023816 | 0.8358716 | 0.8054832 |\n",
       "| IMP03     | 4.44      | 0.7929152 | 0.8330013 | 0.8247673 |\n",
       "\n"
      ],
      "text/plain": [
       "  itemName itemMean pBis      bis       alphaIfDeleted\n",
       "1 IMP01    5.10     0.7463617 0.7833875 0.8630387     \n",
       "2 IMP02    4.84     0.8023816 0.8358716 0.8054832     \n",
       "3 IMP03    4.44     0.7929152 0.8330013 0.8247673     "
      ]
     },
     "metadata": {},
     "output_type": "display_data"
    },
    {
     "data": {
      "text/html": [
       "<table>\n",
       "<thead><tr><th></th><th scope=col>IMP01</th><th scope=col>IMP02</th><th scope=col>IMP03</th></tr></thead>\n",
       "<tbody>\n",
       "\t<tr><th scope=row>IMP01</th><td>1.00</td><td>0.71</td><td>0.70</td></tr>\n",
       "\t<tr><th scope=row>IMP02</th><td>0.71</td><td>1.00</td><td>0.77</td></tr>\n",
       "\t<tr><th scope=row>IMP03</th><td>0.70</td><td>0.77</td><td>1.00</td></tr>\n",
       "</tbody>\n",
       "</table>\n"
      ],
      "text/latex": [
       "\\begin{tabular}{r|lll}\n",
       "  & IMP01 & IMP02 & IMP03\\\\\n",
       "\\hline\n",
       "\tIMP01 & 1.00 & 0.71 & 0.70\\\\\n",
       "\tIMP02 & 0.71 & 1.00 & 0.77\\\\\n",
       "\tIMP03 & 0.70 & 0.77 & 1.00\\\\\n",
       "\\end{tabular}\n"
      ],
      "text/markdown": [
       "\n",
       "| <!--/--> | IMP01 | IMP02 | IMP03 |\n",
       "|---|---|---|---|\n",
       "| IMP01 | 1.00 | 0.71 | 0.70 |\n",
       "| IMP02 | 0.71 | 1.00 | 0.77 |\n",
       "| IMP03 | 0.70 | 0.77 | 1.00 |\n",
       "\n"
      ],
      "text/plain": [
       "      IMP01 IMP02 IMP03\n",
       "IMP01 1.00  0.71  0.70 \n",
       "IMP02 0.71  1.00  0.77 \n",
       "IMP03 0.70  0.77  1.00 "
      ]
     },
     "metadata": {},
     "output_type": "display_data"
    },
    {
     "data": {
      "text/plain": [
       "\n",
       "Reliability analysis   \n",
       "Call: alpha(x = Auswirkungen, use = \"complete.obs\")\n",
       "\n",
       "  raw_alpha std.alpha G6(smc) average_r S/N   ase mean  sd median_r\n",
       "      0.88      0.89    0.84      0.72 7.8 0.028  4.8 1.4     0.71\n",
       "\n",
       "    95% confidence boundaries \n",
       "         lower alpha upper\n",
       "Feldt     0.81  0.88  0.93\n",
       "Duhachek  0.83  0.88  0.94\n",
       "\n",
       " Reliability if an item is dropped:\n",
       "      raw_alpha std.alpha G6(smc) average_r S/N alpha se var.r med.r\n",
       "IMP01      0.86      0.87    0.77      0.77 6.5    0.038    NA  0.77\n",
       "IMP02      0.81      0.82    0.70      0.70 4.6    0.052    NA  0.70\n",
       "IMP03      0.82      0.83    0.71      0.71 4.8    0.049    NA  0.71\n",
       "\n",
       " Item statistics \n",
       "       n raw.r std.r r.cor r.drop mean  sd\n",
       "IMP01 50  0.87  0.89  0.79   0.75  5.1 1.3\n",
       "IMP02 50  0.91  0.91  0.85   0.80  4.8 1.5\n",
       "IMP03 50  0.92  0.91  0.84   0.79  4.4 1.7\n",
       "\n",
       "Non missing response frequency for each item\n",
       "         1    2    3    4    5    6    7 miss\n",
       "IMP01 0.00 0.02 0.06 0.30 0.24 0.18 0.20    0\n",
       "IMP02 0.02 0.08 0.06 0.20 0.28 0.24 0.12    0\n",
       "IMP03 0.10 0.06 0.06 0.22 0.28 0.20 0.08    0"
      ]
     },
     "metadata": {},
     "output_type": "display_data"
    }
   ],
   "source": [
    "head(Auswirkungen)\n",
    "#Gesamtanalyse mit R Package\n",
    "report = itemAnalysis(Auswirkungen, itemReport=TRUE)\n",
    "report[[\"itemReport\"]]\n",
    "\n",
    "#Unkorrigierte Itemtrennschärfe\n",
    "trennschaerfeAuswirkungen = cor(Auswirkungen)\n",
    "round(trennschaerfeAuswirkungen,2)\n",
    "\n",
    "#Alpha\n",
    "alpha(Auswirkungen, use=\"complete.obs\")"
   ]
  },
  {
   "cell_type": "markdown",
   "id": "8d514e12",
   "metadata": {},
   "source": [
    "### <span style=\"font-weight:bold\">Interpretation</span>\n",
    "\n",
    "Mit 0.88 ist der Cronbach Alpha Wert dieses Kosntrukts gut. Das Konstrukt scheint generell gut zu korrelieren.\n",
    "\n",
    "Mit Trennschärfe allerdings ist etwas geringer was heißen könnte, dass die Items abhängig voneinander nicht gut korrelieren und diese das Konstrukt nicht ausreichend gut abbilden. "
   ]
  },
  {
   "cell_type": "markdown",
   "id": "34adaf4f",
   "metadata": {},
   "source": [
    "### <span style=\"color:rgb(145, 40, 33); font-weight:bold\">Selbstbestimmungsrecht</span>"
   ]
  },
  {
   "cell_type": "code",
   "execution_count": 49,
   "id": "de75de01",
   "metadata": {
    "vscode": {
     "languageId": "r"
    }
   },
   "outputs": [
    {
     "data": {
      "text/html": [
       "<table>\n",
       "<thead><tr><th scope=col>SDET01</th><th scope=col>SDET02</th><th scope=col>SDET03</th></tr></thead>\n",
       "<tbody>\n",
       "\t<tr><td>7</td><td>7</td><td>7</td></tr>\n",
       "\t<tr><td>6</td><td>6</td><td>6</td></tr>\n",
       "\t<tr><td>4</td><td>4</td><td>4</td></tr>\n",
       "\t<tr><td>6</td><td>6</td><td>5</td></tr>\n",
       "\t<tr><td>6</td><td>6</td><td>6</td></tr>\n",
       "\t<tr><td>7</td><td>7</td><td>7</td></tr>\n",
       "</tbody>\n",
       "</table>\n"
      ],
      "text/latex": [
       "\\begin{tabular}{r|lll}\n",
       " SDET01 & SDET02 & SDET03\\\\\n",
       "\\hline\n",
       "\t 7 & 7 & 7\\\\\n",
       "\t 6 & 6 & 6\\\\\n",
       "\t 4 & 4 & 4\\\\\n",
       "\t 6 & 6 & 5\\\\\n",
       "\t 6 & 6 & 6\\\\\n",
       "\t 7 & 7 & 7\\\\\n",
       "\\end{tabular}\n"
      ],
      "text/markdown": [
       "\n",
       "| SDET01 | SDET02 | SDET03 |\n",
       "|---|---|---|\n",
       "| 7 | 7 | 7 |\n",
       "| 6 | 6 | 6 |\n",
       "| 4 | 4 | 4 |\n",
       "| 6 | 6 | 5 |\n",
       "| 6 | 6 | 6 |\n",
       "| 7 | 7 | 7 |\n",
       "\n"
      ],
      "text/plain": [
       "  SDET01 SDET02 SDET03\n",
       "1 7      7      7     \n",
       "2 6      6      6     \n",
       "3 4      4      4     \n",
       "4 6      6      5     \n",
       "5 6      6      6     \n",
       "6 7      7      7     "
      ]
     },
     "metadata": {},
     "output_type": "display_data"
    },
    {
     "data": {
      "text/html": [
       "<table>\n",
       "<thead><tr><th scope=col>itemName</th><th scope=col>itemMean</th><th scope=col>pBis</th><th scope=col>bis</th><th scope=col>alphaIfDeleted</th></tr></thead>\n",
       "<tbody>\n",
       "\t<tr><td>SDET01   </td><td>6.24     </td><td>0.9340067</td><td>1.066014 </td><td>0.9734003</td></tr>\n",
       "\t<tr><td>SDET02   </td><td>6.18     </td><td>0.9559722</td><td>1.081081 </td><td>0.9573333</td></tr>\n",
       "\t<tr><td>SDET03   </td><td>6.16     </td><td>0.9540824</td><td>1.087353 </td><td>0.9599248</td></tr>\n",
       "</tbody>\n",
       "</table>\n"
      ],
      "text/latex": [
       "\\begin{tabular}{r|lllll}\n",
       " itemName & itemMean & pBis & bis & alphaIfDeleted\\\\\n",
       "\\hline\n",
       "\t SDET01    & 6.24      & 0.9340067 & 1.066014  & 0.9734003\\\\\n",
       "\t SDET02    & 6.18      & 0.9559722 & 1.081081  & 0.9573333\\\\\n",
       "\t SDET03    & 6.16      & 0.9540824 & 1.087353  & 0.9599248\\\\\n",
       "\\end{tabular}\n"
      ],
      "text/markdown": [
       "\n",
       "| itemName | itemMean | pBis | bis | alphaIfDeleted |\n",
       "|---|---|---|---|---|\n",
       "| SDET01    | 6.24      | 0.9340067 | 1.066014  | 0.9734003 |\n",
       "| SDET02    | 6.18      | 0.9559722 | 1.081081  | 0.9573333 |\n",
       "| SDET03    | 6.16      | 0.9540824 | 1.087353  | 0.9599248 |\n",
       "\n"
      ],
      "text/plain": [
       "  itemName itemMean pBis      bis      alphaIfDeleted\n",
       "1 SDET01   6.24     0.9340067 1.066014 0.9734003     \n",
       "2 SDET02   6.18     0.9559722 1.081081 0.9573333     \n",
       "3 SDET03   6.16     0.9540824 1.087353 0.9599248     "
      ]
     },
     "metadata": {},
     "output_type": "display_data"
    },
    {
     "data": {
      "text/html": [
       "<table>\n",
       "<thead><tr><th></th><th scope=col>SDET01</th><th scope=col>SDET02</th><th scope=col>SDET03</th></tr></thead>\n",
       "<tbody>\n",
       "\t<tr><th scope=row>SDET01</th><td>1.00</td><td>0.92</td><td>0.92</td></tr>\n",
       "\t<tr><th scope=row>SDET02</th><td>0.92</td><td>1.00</td><td>0.95</td></tr>\n",
       "\t<tr><th scope=row>SDET03</th><td>0.92</td><td>0.95</td><td>1.00</td></tr>\n",
       "</tbody>\n",
       "</table>\n"
      ],
      "text/latex": [
       "\\begin{tabular}{r|lll}\n",
       "  & SDET01 & SDET02 & SDET03\\\\\n",
       "\\hline\n",
       "\tSDET01 & 1.00 & 0.92 & 0.92\\\\\n",
       "\tSDET02 & 0.92 & 1.00 & 0.95\\\\\n",
       "\tSDET03 & 0.92 & 0.95 & 1.00\\\\\n",
       "\\end{tabular}\n"
      ],
      "text/markdown": [
       "\n",
       "| <!--/--> | SDET01 | SDET02 | SDET03 |\n",
       "|---|---|---|---|\n",
       "| SDET01 | 1.00 | 0.92 | 0.92 |\n",
       "| SDET02 | 0.92 | 1.00 | 0.95 |\n",
       "| SDET03 | 0.92 | 0.95 | 1.00 |\n",
       "\n"
      ],
      "text/plain": [
       "       SDET01 SDET02 SDET03\n",
       "SDET01 1.00   0.92   0.92  \n",
       "SDET02 0.92   1.00   0.95  \n",
       "SDET03 0.92   0.95   1.00  "
      ]
     },
     "metadata": {},
     "output_type": "display_data"
    },
    {
     "data": {
      "text/plain": [
       "\n",
       "Reliability analysis   \n",
       "Call: alpha(x = Selbstbestimmungsrecht, use = \"complete.obs\")\n",
       "\n",
       "  raw_alpha std.alpha G6(smc) average_r S/N    ase mean   sd median_r\n",
       "      0.98      0.98    0.97      0.93  41 0.0059  6.2 0.95     0.92\n",
       "\n",
       "    95% confidence boundaries \n",
       "         lower alpha upper\n",
       "Feldt     0.96  0.98  0.99\n",
       "Duhachek  0.96  0.98  0.99\n",
       "\n",
       " Reliability if an item is dropped:\n",
       "       raw_alpha std.alpha G6(smc) average_r S/N alpha se var.r med.r\n",
       "SDET01      0.97      0.97    0.95      0.95  38   0.0074    NA  0.95\n",
       "SDET02      0.96      0.96    0.92      0.92  23   0.0118    NA  0.92\n",
       "SDET03      0.96      0.96    0.92      0.92  24   0.0113    NA  0.92\n",
       "\n",
       " Item statistics \n",
       "        n raw.r std.r r.cor r.drop mean   sd\n",
       "SDET01 50  0.97  0.97  0.94   0.93  6.2 0.94\n",
       "SDET02 50  0.98  0.98  0.97   0.96  6.2 0.96\n",
       "SDET03 50  0.98  0.98  0.97   0.95  6.2 1.02\n",
       "\n",
       "Non missing response frequency for each item\n",
       "          4    5    6    7 miss\n",
       "SDET01 0.06 0.16 0.26 0.52    0\n",
       "SDET02 0.06 0.20 0.24 0.50    0\n",
       "SDET03 0.08 0.20 0.20 0.52    0"
      ]
     },
     "metadata": {},
     "output_type": "display_data"
    }
   ],
   "source": [
    "head(Selbstbestimmungsrecht)\n",
    "#Gesamtanalyse mit R Package\n",
    "report = itemAnalysis(Selbstbestimmungsrecht, itemReport=TRUE)\n",
    "report[[\"itemReport\"]]\n",
    "\n",
    "#Unkorrigierte Itemtrennschärfe\n",
    "trennschaerfeSelbstbestimmungsrecht = cor(Selbstbestimmungsrecht)\n",
    "round(trennschaerfeSelbstbestimmungsrecht,2)\n",
    "\n",
    "#Alpha\n",
    "alpha(Selbstbestimmungsrecht, use=\"complete.obs\")"
   ]
  },
  {
   "cell_type": "markdown",
   "id": "6a9076d0",
   "metadata": {},
   "source": [
    "### <span style=\"font-weight:bold\">Interpretation</span>\n",
    "\n",
    "Auch hier liegen wieder alle Werte in einem sehr hohen akzeptablen Wertebereich, was darsu schließen lässt, dass dieses Konstrukt insgesamt sehr gut ist. Sowohl wenn man die Werte der Varianz als auch Trennschärfewerte betrachtet, sind alle sehr zufriedenstellend. "
   ]
  },
  {
   "cell_type": "markdown",
   "id": "13f3a5be",
   "metadata": {},
   "source": [
    "### <span style=\"color:rgb(145, 40, 33); font-weight:bold\">Empfehlung</span>"
   ]
  },
  {
   "cell_type": "code",
   "execution_count": 51,
   "id": "a09ca6be",
   "metadata": {
    "vscode": {
     "languageId": "r"
    }
   },
   "outputs": [
    {
     "data": {
      "text/html": [
       "<table>\n",
       "<thead><tr><th scope=col>REC01</th><th scope=col>REC02</th><th scope=col>REC03</th></tr></thead>\n",
       "<tbody>\n",
       "\t<tr><td>1</td><td>7</td><td>7</td></tr>\n",
       "\t<tr><td>6</td><td>6</td><td>6</td></tr>\n",
       "\t<tr><td>6</td><td>5</td><td>6</td></tr>\n",
       "\t<tr><td>4</td><td>4</td><td>4</td></tr>\n",
       "\t<tr><td>6</td><td>6</td><td>5</td></tr>\n",
       "\t<tr><td>1</td><td>1</td><td>1</td></tr>\n",
       "</tbody>\n",
       "</table>\n"
      ],
      "text/latex": [
       "\\begin{tabular}{r|lll}\n",
       " REC01 & REC02 & REC03\\\\\n",
       "\\hline\n",
       "\t 1 & 7 & 7\\\\\n",
       "\t 6 & 6 & 6\\\\\n",
       "\t 6 & 5 & 6\\\\\n",
       "\t 4 & 4 & 4\\\\\n",
       "\t 6 & 6 & 5\\\\\n",
       "\t 1 & 1 & 1\\\\\n",
       "\\end{tabular}\n"
      ],
      "text/markdown": [
       "\n",
       "| REC01 | REC02 | REC03 |\n",
       "|---|---|---|\n",
       "| 1 | 7 | 7 |\n",
       "| 6 | 6 | 6 |\n",
       "| 6 | 5 | 6 |\n",
       "| 4 | 4 | 4 |\n",
       "| 6 | 6 | 5 |\n",
       "| 1 | 1 | 1 |\n",
       "\n"
      ],
      "text/plain": [
       "  REC01 REC02 REC03\n",
       "1 1     7     7    \n",
       "2 6     6     6    \n",
       "3 6     5     6    \n",
       "4 4     4     4    \n",
       "5 6     6     5    \n",
       "6 1     1     1    "
      ]
     },
     "metadata": {},
     "output_type": "display_data"
    },
    {
     "data": {
      "text/html": [
       "<table>\n",
       "<thead><tr><th scope=col>itemName</th><th scope=col>itemMean</th><th scope=col>pBis</th><th scope=col>bis</th><th scope=col>alphaIfDeleted</th></tr></thead>\n",
       "<tbody>\n",
       "\t<tr><td>REC01    </td><td>5.38     </td><td>0.7567172</td><td>0.8076334</td><td>0.9123190</td></tr>\n",
       "\t<tr><td>REC02    </td><td>5.88     </td><td>0.8213037</td><td>0.8847880</td><td>0.8401161</td></tr>\n",
       "\t<tr><td>REC03    </td><td>5.80     </td><td>0.8480103</td><td>0.9029354</td><td>0.8181130</td></tr>\n",
       "</tbody>\n",
       "</table>\n"
      ],
      "text/latex": [
       "\\begin{tabular}{r|lllll}\n",
       " itemName & itemMean & pBis & bis & alphaIfDeleted\\\\\n",
       "\\hline\n",
       "\t REC01     & 5.38      & 0.7567172 & 0.8076334 & 0.9123190\\\\\n",
       "\t REC02     & 5.88      & 0.8213037 & 0.8847880 & 0.8401161\\\\\n",
       "\t REC03     & 5.80      & 0.8480103 & 0.9029354 & 0.8181130\\\\\n",
       "\\end{tabular}\n"
      ],
      "text/markdown": [
       "\n",
       "| itemName | itemMean | pBis | bis | alphaIfDeleted |\n",
       "|---|---|---|---|---|\n",
       "| REC01     | 5.38      | 0.7567172 | 0.8076334 | 0.9123190 |\n",
       "| REC02     | 5.88      | 0.8213037 | 0.8847880 | 0.8401161 |\n",
       "| REC03     | 5.80      | 0.8480103 | 0.9029354 | 0.8181130 |\n",
       "\n"
      ],
      "text/plain": [
       "  itemName itemMean pBis      bis       alphaIfDeleted\n",
       "1 REC01    5.38     0.7567172 0.8076334 0.9123190     \n",
       "2 REC02    5.88     0.8213037 0.8847880 0.8401161     \n",
       "3 REC03    5.80     0.8480103 0.9029354 0.8181130     "
      ]
     },
     "metadata": {},
     "output_type": "display_data"
    },
    {
     "data": {
      "text/html": [
       "<table>\n",
       "<thead><tr><th></th><th scope=col>REC01</th><th scope=col>REC02</th><th scope=col>REC03</th></tr></thead>\n",
       "<tbody>\n",
       "\t<tr><th scope=row>REC01</th><td>1.00</td><td>0.71</td><td>0.74</td></tr>\n",
       "\t<tr><th scope=row>REC02</th><td>0.71</td><td>1.00</td><td>0.84</td></tr>\n",
       "\t<tr><th scope=row>REC03</th><td>0.74</td><td>0.84</td><td>1.00</td></tr>\n",
       "</tbody>\n",
       "</table>\n"
      ],
      "text/latex": [
       "\\begin{tabular}{r|lll}\n",
       "  & REC01 & REC02 & REC03\\\\\n",
       "\\hline\n",
       "\tREC01 & 1.00 & 0.71 & 0.74\\\\\n",
       "\tREC02 & 0.71 & 1.00 & 0.84\\\\\n",
       "\tREC03 & 0.74 & 0.84 & 1.00\\\\\n",
       "\\end{tabular}\n"
      ],
      "text/markdown": [
       "\n",
       "| <!--/--> | REC01 | REC02 | REC03 |\n",
       "|---|---|---|---|\n",
       "| REC01 | 1.00 | 0.71 | 0.74 |\n",
       "| REC02 | 0.71 | 1.00 | 0.84 |\n",
       "| REC03 | 0.74 | 0.84 | 1.00 |\n",
       "\n"
      ],
      "text/plain": [
       "      REC01 REC02 REC03\n",
       "REC01 1.00  0.71  0.74 \n",
       "REC02 0.71  1.00  0.84 \n",
       "REC03 0.74  0.84  1.00 "
      ]
     },
     "metadata": {},
     "output_type": "display_data"
    },
    {
     "data": {
      "text/plain": [
       "\n",
       "Reliability analysis   \n",
       "Call: alpha(x = Empfehlung, use = \"complete.obs\")\n",
       "\n",
       "  raw_alpha std.alpha G6(smc) average_r S/N   ase mean  sd median_r\n",
       "       0.9      0.91    0.87      0.76 9.7 0.025  5.7 1.3     0.74\n",
       "\n",
       "    95% confidence boundaries \n",
       "         lower alpha upper\n",
       "Feldt     0.84   0.9  0.94\n",
       "Duhachek  0.85   0.9  0.95\n",
       "\n",
       " Reliability if an item is dropped:\n",
       "      raw_alpha std.alpha G6(smc) average_r  S/N alpha se var.r med.r\n",
       "REC01      0.91      0.91    0.84      0.84 10.4    0.025    NA  0.84\n",
       "REC02      0.84      0.85    0.74      0.74  5.7    0.043    NA  0.74\n",
       "REC03      0.82      0.83    0.71      0.71  4.9    0.049    NA  0.71\n",
       "\n",
       " Item statistics \n",
       "       n raw.r std.r r.cor r.drop mean  sd\n",
       "REC01 50  0.91  0.89  0.79   0.76  5.4 1.6\n",
       "REC02 50  0.92  0.93  0.88   0.82  5.9 1.3\n",
       "REC03 50  0.93  0.94  0.90   0.85  5.8 1.3\n",
       "\n",
       "Non missing response frequency for each item\n",
       "         1    2    4    5    6    7 miss\n",
       "REC01 0.06 0.02 0.14 0.22 0.30 0.26    0\n",
       "REC02 0.02 0.02 0.06 0.18 0.36 0.36    0\n",
       "REC03 0.02 0.02 0.08 0.18 0.38 0.32    0"
      ]
     },
     "metadata": {},
     "output_type": "display_data"
    }
   ],
   "source": [
    "head(Empfehlung)\n",
    "#Gesamtanalyse mit R Package\n",
    "report = itemAnalysis(Empfehlung, itemReport=TRUE)\n",
    "report[[\"itemReport\"]]\n",
    "\n",
    "#Unkorrigierte Itemtrennschärfe\n",
    "trennschaerfeEmpfehlung = cor(Empfehlung)\n",
    "round(trennschaerfeEmpfehlung,2)\n",
    "\n",
    "#Alpha\n",
    "alpha(Empfehlung, use=\"complete.obs\")"
   ]
  },
  {
   "cell_type": "markdown",
   "id": "7b074c42",
   "metadata": {},
   "source": [
    "### <span style=\"font-weight:bold\">Interpretation</span>\n",
    "\n",
    "Das Konstrukt der Empfehlung weist einen sehr guten Cronbach Alpha Wert auf. Generell liegen auch alle anderen Werte in sehr gut hohen Bereichen, das einzige Item, \"REC01\" wäre in Betracht zu ziehen, für eine Eliminierung. Aufgrund der schwankenden Cronbach Alpha Werte. "
   ]
  },
  {
   "cell_type": "markdown",
   "id": "b37dad24",
   "metadata": {},
   "source": [
    "## <span style=\"color:rgb(145, 40, 33); font-weight:bold\">Kurzzusammenfassung über Ergebnisse</span>\n",
    "\n",
    "Ich habe mich letztendlich dazu entschlossen diesen Fragebogen insgesamt als gut zu werten, aufgrund der meist gut korrelierenden Konstrukte und der eher selten schlechten Items. Ausgeschlossen wäre eine Optimierung oder Umformulierung der Fragen allerdings nicht, auf grund von: \n",
    "\n",
    "Betrachtet man das zweite Konstrukt \"Sozialer Einfluss\", wäre die Eliminierung der Variable \"SI04\" eien Option, wäre es nicht möglich die Frage umzuformulieren. \"SI01\" und \"SI03\" haben eine relativ akzeptable Trennschärfe, korrelieren also einigermaßen. \n",
    "\n",
    "\n",
    "Auch die Werte \"FC05\", sowie \"FC02\" und \"FC01\" wären zu optimieren, da beide im Bereich der Trennschärfe nur minderwertig zufriedenstellende Ergebnisse liefern. Wobei \"FC05\" in Hinblick auf Trennschärfe und Itemschwieirig sowieso entfernt werden sollte. \n",
    "\n",
    "Besonders beim Konstrukt des \"Selbstbestimmungsrecht(s)\", kann man ein fast perfektes Konstrukt beobachten. Sowohl Itemvarianz als auch der Cronbachs Alphawert liegen in nahezu perfekten Bereichen.\n",
    "\n",
    "Das Konstrukt \"Empfehlung\" wird in Hinblick auf \"REC01\" genauer betrachtet, da die Itemvarianz eher durchschnittlich gewichtet ist. Allerdings kann eine moderate Trennschärfe von 0.6 beobachtet werden. \n",
    "\n",
    "Die einzeln ausgewählten Items die zur Überarbeitung in Betracht gezogen werden sollten waren wie folgt: \"SI04\", \"FC05/02/01\" und \"REC01\". "
   ]
  },
  {
   "cell_type": "code",
   "execution_count": null,
   "id": "a0fda108",
   "metadata": {
    "vscode": {
     "languageId": "r"
    }
   },
   "outputs": [],
   "source": []
  }
 ],
 "metadata": {
  "kernelspec": {
   "display_name": "R",
   "language": "R",
   "name": "ir"
  },
  "language_info": {
   "codemirror_mode": "r",
   "file_extension": ".r",
   "mimetype": "text/x-r-source",
   "name": "R",
   "pygments_lexer": "r",
   "version": "3.6.1"
  }
 },
 "nbformat": 4,
 "nbformat_minor": 5
}
